{
 "cells": [
  {
   "cell_type": "code",
   "execution_count": 1,
   "metadata": {},
   "outputs": [],
   "source": [
    "import lumipy as lm\n",
    "from lusidjam import RefreshingToken as rt\n",
    "\n",
    "atlas = lm.get_atlas(token=rt())"
   ]
  },
  {
   "cell_type": "markdown",
   "metadata": {},
   "source": [
    "# Tutorial 4 - Table Variables and Scalar Variables\n",
    "\n",
    "Query variables in luminesce are table or scalar valued sub-queries that can be re-used within the query. "
   ]
  },
  {
   "cell_type": "markdown",
   "metadata": {},
   "source": [
    "## Table Variables\n",
    "\n",
    "Table variables are queries that resolve to a table and once built in lumipy they behave like any source table class. They can be joined with other tables or queried back with `select(...)`. The columns are manifested as attributes on the table variable object and they take on the name of their alias (if they're aliased). "
   ]
  },
  {
   "cell_type": "code",
   "execution_count": 2,
   "metadata": {},
   "outputs": [],
   "source": [
    "quotes = atlas.lusid_instrument_quote()"
   ]
  },
  {
   "cell_type": "code",
   "execution_count": 3,
   "metadata": {},
   "outputs": [
    {
     "data": {
      "text/plain": [
       "[└•Text ⬅ SQL Piece: [InstrumentId]\n",
       "    └•[\u001b[34mCOLUMN INPUT\u001b[0m]\n",
       "       @tv_487287495033147632: [InstrumentId],\n",
       " └•Decimal ⬅ SQL Piece: [MinVal]\n",
       "    └•[\u001b[34mCOLUMN INPUT\u001b[0m]\n",
       "       @tv_487287495033147632: MinVal,\n",
       " └•Decimal ⬅ SQL Piece: [MedianVal]\n",
       "    └•[\u001b[34mCOLUMN INPUT\u001b[0m]\n",
       "       @tv_487287495033147632: MedianVal,\n",
       " └•Decimal ⬅ SQL Piece: [MaxVal]\n",
       "    └•[\u001b[34mCOLUMN INPUT\u001b[0m]\n",
       "       @tv_487287495033147632: MaxVal]"
      ]
     },
     "execution_count": 3,
     "metadata": {},
     "output_type": "execute_result"
    }
   ],
   "source": [
    "table_var = quotes.select(\n",
    "    quotes.instrument_id\n",
    ").where(\n",
    "    quotes.lineage == 'YahooFinance'\n",
    ").group_by(\n",
    "    quotes.instrument_id\n",
    ").aggregate(\n",
    "    MinVal=quotes.value.min(),\n",
    "    MedianVal=quotes.value.median(),\n",
    "    MaxVal=quotes.value.max()    \n",
    ").to_table_var()\n",
    "\n",
    "table_var.get_columns()"
   ]
  },
  {
   "cell_type": "markdown",
   "metadata": {},
   "source": [
    "## Scalar Variables\n",
    "\n",
    "Scalar variables are subqueries that resolve to a single value (one column value and one row). This scalar value can then be used in various places where you'd use a literal value. "
   ]
  },
  {
   "cell_type": "code",
   "execution_count": 4,
   "metadata": {},
   "outputs": [],
   "source": [
    "holding = atlas.lusid_portfolio_holding()"
   ]
  },
  {
   "cell_type": "code",
   "execution_count": 5,
   "metadata": {},
   "outputs": [],
   "source": [
    "total_cost = holding.select(\n",
    "    TotalCost=holding.cost_amount_portfolio_currency.sum()\n",
    ").where(\n",
    "    holding.portfolio_scope == 'Finbourne-Examples'\n",
    ").to_scalar_var()\n",
    "\n",
    "qry = holding.select(\n",
    "    holding.portfolio_code,\n",
    "    holding.lusid_instrument_id, \n",
    "    holding.cost_amount_portfolio_currency,\n",
    "    CostFractionPc=100*holding.cost_amount_portfolio_currency/total_cost\n",
    ").where(\n",
    "    holding.portfolio_scope == 'Finbourne-Examples'\n",
    ").order_by(\n",
    "    (holding.cost_amount_portfolio_currency/total_cost).descending()\n",
    ").limit(5)"
   ]
  },
  {
   "cell_type": "code",
   "execution_count": 6,
   "metadata": {
    "scrolled": false
   },
   "outputs": [
    {
     "data": {
      "text/html": [
       "<div>\n",
       "<style scoped>\n",
       "    .dataframe tbody tr th:only-of-type {\n",
       "        vertical-align: middle;\n",
       "    }\n",
       "\n",
       "    .dataframe tbody tr th {\n",
       "        vertical-align: top;\n",
       "    }\n",
       "\n",
       "    .dataframe thead th {\n",
       "        text-align: right;\n",
       "    }\n",
       "</style>\n",
       "<table border=\"1\" class=\"dataframe\">\n",
       "  <thead>\n",
       "    <tr style=\"text-align: right;\">\n",
       "      <th></th>\n",
       "      <th>PortfolioCode</th>\n",
       "      <th>LusidInstrumentId</th>\n",
       "      <th>CostAmountPortfolioCurrency</th>\n",
       "      <th>CostFractionPc</th>\n",
       "    </tr>\n",
       "  </thead>\n",
       "  <tbody>\n",
       "    <tr>\n",
       "      <th>0</th>\n",
       "      <td>Global-Equity</td>\n",
       "      <td>LUID_JTQY6QFI</td>\n",
       "      <td>1.822715e+09</td>\n",
       "      <td>19.549961</td>\n",
       "    </tr>\n",
       "    <tr>\n",
       "      <th>1</th>\n",
       "      <td>Global-Equity</td>\n",
       "      <td>LUID_1W5WYN3O</td>\n",
       "      <td>1.760183e+09</td>\n",
       "      <td>18.879259</td>\n",
       "    </tr>\n",
       "    <tr>\n",
       "      <th>2</th>\n",
       "      <td>Global-Equity</td>\n",
       "      <td>LUID_4CINGMZM</td>\n",
       "      <td>1.322168e+09</td>\n",
       "      <td>14.181222</td>\n",
       "    </tr>\n",
       "    <tr>\n",
       "      <th>3</th>\n",
       "      <td>Global-Equity</td>\n",
       "      <td>LUID_J4G8D0DV</td>\n",
       "      <td>1.146539e+09</td>\n",
       "      <td>12.297467</td>\n",
       "    </tr>\n",
       "    <tr>\n",
       "      <th>4</th>\n",
       "      <td>Global-Equity</td>\n",
       "      <td>LUID_GJ9TICS4</td>\n",
       "      <td>1.050759e+09</td>\n",
       "      <td>11.270165</td>\n",
       "    </tr>\n",
       "  </tbody>\n",
       "</table>\n",
       "</div>"
      ],
      "text/plain": [
       "   PortfolioCode LusidInstrumentId  CostAmountPortfolioCurrency  \\\n",
       "0  Global-Equity     LUID_JTQY6QFI                 1.822715e+09   \n",
       "1  Global-Equity     LUID_1W5WYN3O                 1.760183e+09   \n",
       "2  Global-Equity     LUID_4CINGMZM                 1.322168e+09   \n",
       "3  Global-Equity     LUID_J4G8D0DV                 1.146539e+09   \n",
       "4  Global-Equity     LUID_GJ9TICS4                 1.050759e+09   \n",
       "\n",
       "   CostFractionPc  \n",
       "0       19.549961  \n",
       "1       18.879259  \n",
       "2       14.181222  \n",
       "3       12.297467  \n",
       "4       11.270165  "
      ]
     },
     "execution_count": 6,
     "metadata": {},
     "output_type": "execute_result"
    }
   ],
   "source": [
    "df = qry.go()\n",
    "df"
   ]
  },
  {
   "cell_type": "code",
   "execution_count": 7,
   "metadata": {
    "scrolled": false
   },
   "outputs": [
    {
     "name": "stdout",
     "output_type": "stream",
     "text": [
      "@@sv_66112660981258678 = \n",
      "select\n",
      "  total([CostAmountPortfolioCurrency]) as [TotalCost] \n",
      "from\n",
      "  Lusid.Portfolio.Holding \n",
      "where\n",
      "  [PortfolioScope] = 'Finbourne-Examples';\n",
      "\n",
      "\n",
      "select\n",
      "  [PortfolioCode], [LusidInstrumentId], [CostAmountPortfolioCurrency], ([CostAmountPortfolioCurrency] * 100) / @@sv_66112660981258678 as [CostFractionPc] \n",
      "from\n",
      "  Lusid.Portfolio.Holding \n",
      "where\n",
      "  [PortfolioScope] = 'Finbourne-Examples' \n",
      "order by\n",
      "  [CostAmountPortfolioCurrency] / @@sv_66112660981258678 desc \n",
      "limit\n",
      "  5\n"
     ]
    }
   ],
   "source": [
    "qry.print_sql()"
   ]
  }
 ],
 "metadata": {
  "kernelspec": {
   "display_name": "Python 3",
   "language": "python",
   "name": "python3"
  },
  "language_info": {
   "codemirror_mode": {
    "name": "ipython",
    "version": 3
   },
   "file_extension": ".py",
   "mimetype": "text/x-python",
   "name": "python",
   "nbconvert_exporter": "python",
   "pygments_lexer": "ipython3",
   "version": "3.8.5"
  }
 },
 "nbformat": 4,
 "nbformat_minor": 4
}
