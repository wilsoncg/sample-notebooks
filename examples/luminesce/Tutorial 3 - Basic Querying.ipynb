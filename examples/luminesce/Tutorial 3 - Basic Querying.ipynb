{
 "cells": [
  {
   "cell_type": "code",
   "execution_count": 1,
   "metadata": {},
   "outputs": [],
   "source": [
    "import lumipy as lm\n",
    "from datetime import datetime\n",
    "from lusidjam import RefreshingToken as rt"
   ]
  },
  {
   "cell_type": "markdown",
   "metadata": {},
   "source": [
    "# Tutorial 3 - Basic Queries\n",
    "\n",
    "## Introduction: lumipy fluent syntax and the role of the atlas\n",
    "\n",
    "Idea is to construct a graph of operations using python operators and primitives that defines a query. It also offers support for tab completion and inspection of docstrings/method args with shift+tab in jupyter. \n",
    "\n",
    "## Get the Atlas"
   ]
  },
  {
   "cell_type": "code",
   "execution_count": 2,
   "metadata": {},
   "outputs": [],
   "source": [
    "atlas = lm.get_atlas(token=rt())"
   ]
  },
  {
   "cell_type": "markdown",
   "metadata": {},
   "source": [
    "## Get the Provider Class\n",
    "We first get the holdings provider definition object from the atlas"
   ]
  },
  {
   "cell_type": "code",
   "execution_count": 3,
   "metadata": {},
   "outputs": [
    {
     "data": {
      "text/plain": [
       "└•Provider Definition: lusid_portfolio_holding\n",
       "   ├•Table SQL Name: Lusid.Portfolio.Holding\n",
       "   ├•Type: DataProvider\n",
       "   ├•Category: Lusid\n",
       "   ├•Description: Returns Lusid Portfolio / Holdings data\n",
       "   ├•Documentation: [Not Available]\n",
       "   ├•Last Ping At: 2021-06-13 14:46:50.179\n",
       "   └•Fields:\n",
       "      ├•as_at                          Parameter   DateTime  \n",
       "      ├•cost_amount                    Column      Decimal   \n",
       "      ├•cost_amount_portfolio_currency Column      Decimal   \n",
       "      ├•cost_currency                  Column      Text      \n",
       "      ├•effective_at                   Parameter   DateTime  \n",
       "      ├•error                          Column      Text      \n",
       "      ├•holding_prop                   Column      Text      \n",
       "      ├•holding_type                   Column      Text      \n",
       "      ├•inst_prop                      Column      Decimal   \n",
       "      ├•instrument_tag                 Column      Text      \n",
       "      ├•lusid_instrument_id            Column      Text      \n",
       "      ├•portfolio_code                 Column      Text      \n",
       "      ├•portfolio_scope                Column      Text      \n",
       "      ├•settled_units                  Column      Decimal   \n",
       "      ├•sub_holding_key                Column      Text      \n",
       "      └•units                          Column      Decimal   "
      ]
     },
     "execution_count": 3,
     "metadata": {},
     "output_type": "execute_result"
    }
   ],
   "source": [
    "atlas.lusid_portfolio_holding"
   ]
  },
  {
   "cell_type": "markdown",
   "metadata": {},
   "source": [
    "Try doing `shift`+`tab` with the cursor inside the `atlas.lusid_portfolio_holding()` call below. "
   ]
  },
  {
   "cell_type": "code",
   "execution_count": 4,
   "metadata": {},
   "outputs": [
    {
     "data": {
      "text/plain": [
       "└•Table\n",
       "   └•[\u001b[34mDEFINE PROVIDER TABLE\u001b[0m]\n",
       "      ├•Parameter ⬅ SQL Piece: [EffectiveAt] = #2021-03-01 00:00:00.000000#\n",
       "      │  └•[\u001b[34mSET PARAM VALUE\u001b[0m]\n",
       "      │     Lusid.Portfolio.Holding: EffectiveAt\n",
       "      │     └•DateTime ⬅ SQL Piece: #2021-03-01 00:00:00.000000#\n",
       "      │        └•[\u001b[34mLITERAL\u001b[0m]\n",
       "      │           literal_input: #2021-03-01 00:00:00.000000#\n",
       "      ├•Parameter ⬅ SQL Piece: [AsAt] = #2021-03-08 00:00:00.000000#\n",
       "      │  └•[\u001b[34mSET PARAM VALUE\u001b[0m]\n",
       "      │     Lusid.Portfolio.Holding: AsAt\n",
       "      │     └•DateTime ⬅ SQL Piece: #2021-03-08 00:00:00.000000#\n",
       "      │        └•[\u001b[34mLITERAL\u001b[0m]\n",
       "      │           literal_input: #2021-03-08 00:00:00.000000#\n",
       "      └•Provider Definition: lusid_portfolio_holding\n",
       "         ├•Table SQL Name: Lusid.Portfolio.Holding\n",
       "         ├•Type: DataProvider\n",
       "         ├•Category: Lusid\n",
       "         ├•Description: Returns Lusid Portfolio / Holdings data\n",
       "         ├•Documentation: [Not Available]\n",
       "         ├•Last Ping At: 2021-06-13 14:46:50.179\n",
       "         └•Fields:\n",
       "            ├•as_at                          Parameter   DateTime  \n",
       "            ├•cost_amount                    Column      Decimal   \n",
       "            ├•cost_amount_portfolio_currency Column      Decimal   \n",
       "            ├•cost_currency                  Column      Text      \n",
       "            ├•effective_at                   Parameter   DateTime  \n",
       "            ├•error                          Column      Text      \n",
       "            ├•holding_prop                   Column      Text      \n",
       "            ├•holding_type                   Column      Text      \n",
       "            ├•inst_prop                      Column      Decimal   \n",
       "            ├•instrument_tag                 Column      Text      \n",
       "            ├•lusid_instrument_id            Column      Text      \n",
       "            ├•portfolio_code                 Column      Text      \n",
       "            ├•portfolio_scope                Column      Text      \n",
       "            ├•settled_units                  Column      Decimal   \n",
       "            ├•sub_holding_key                Column      Text      \n",
       "            └•units                          Column      Decimal   "
      ]
     },
     "execution_count": 4,
     "metadata": {},
     "output_type": "execute_result"
    }
   ],
   "source": [
    "holdings = atlas.lusid_portfolio_holding(\n",
    "    effective_at=datetime(2021, 3, 1), \n",
    "    as_at=datetime(2021, 3, 8)\n",
    ")\n",
    "# Show holdings DAG\n",
    "holdings"
   ]
  },
  {
   "cell_type": "markdown",
   "metadata": {},
   "source": [
    "## Provider Columns\n",
    "\n",
    "Columns are available as attributes on the provider instance and you can use get_columns() to get a list of the columns that live on this data provider. "
   ]
  },
  {
   "cell_type": "code",
   "execution_count": 5,
   "metadata": {
    "scrolled": false
   },
   "outputs": [
    {
     "data": {
      "text/plain": [
       "└•Text ⬅ SQL Piece: [LusidInstrumentId]\n",
       "   └•[\u001b[34mCOLUMN INPUT\u001b[0m]\n",
       "      Lusid.Portfolio.Holding: LusidInstrumentId"
      ]
     },
     "execution_count": 5,
     "metadata": {},
     "output_type": "execute_result"
    }
   ],
   "source": [
    "holdings.lusid_instrument_id"
   ]
  },
  {
   "cell_type": "code",
   "execution_count": 6,
   "metadata": {},
   "outputs": [
    {
     "name": "stdout",
     "output_type": "stream",
     "text": [
      "Column cost_amount                    -> Resolves to SQL -> [CostAmount]\n",
      "Column cost_amount_portfolio_currency -> Resolves to SQL -> [CostAmountPortfolioCurrency]\n",
      "Column cost_currency                  -> Resolves to SQL -> [CostCurrency]\n",
      "Column error                          -> Resolves to SQL -> [Error]\n",
      "Column holding_prop                   -> Resolves to SQL -> [HoldingProp]\n",
      "Column holding_type                   -> Resolves to SQL -> [HoldingType]\n",
      "Column inst_prop                      -> Resolves to SQL -> [InstProp]\n",
      "Column instrument_tag                 -> Resolves to SQL -> [InstrumentTag]\n",
      "Column lusid_instrument_id            -> Resolves to SQL -> [LusidInstrumentId]\n",
      "Column portfolio_code                 -> Resolves to SQL -> [PortfolioCode]\n",
      "Column portfolio_scope                -> Resolves to SQL -> [PortfolioScope]\n",
      "Column settled_units                  -> Resolves to SQL -> [SettledUnits]\n",
      "Column sub_holding_key                -> Resolves to SQL -> [SubHoldingKey]\n",
      "Column units                          -> Resolves to SQL -> [Units]\n"
     ]
    }
   ],
   "source": [
    "for c in holdings.get_columns():\n",
    "    print(f\"Column {c.get_name():30} -> Resolves to SQL -> {c.get_sql()}\")"
   ]
  },
  {
   "cell_type": "markdown",
   "metadata": {},
   "source": [
    "## Select Statements\n",
    "\n",
    "Given the above as a starting point we can now start to build the query. All queries must start by calling the `.select(...)` method on a provider class. \n",
    "\n",
    "Any input to select that is not an original column of the provider (i.e. function of columns or literals) must be supplied as a keyword argument where the argument name is the alias you'll give to the new column. "
   ]
  },
  {
   "cell_type": "code",
   "execution_count": 7,
   "metadata": {},
   "outputs": [
    {
     "name": "stdout",
     "output_type": "stream",
     "text": [
      "For '*' there will be 14 columns returned.\n",
      "For '^' there will be 9 columns returned.\n",
      "With 4 cols selected + 2 aliases there will be 6 columns returned.\n"
     ]
    }
   ],
   "source": [
    "selected = holdings.select('*')\n",
    "print(f\"For '*' there will be {len(selected.get_columns())} columns returned.\")\n",
    "\n",
    "selected = holdings.select('^')\n",
    "print(f\"For '^' there will be {len(selected.get_columns())} columns returned.\")\n",
    "\n",
    "selected = holdings.select(\n",
    "    holdings.lusid_instrument_id, \n",
    "    holdings.cost_amount,\n",
    "    holdings.cost_currency,\n",
    "    holdings.settled_units,\n",
    "    Millions=holdings.cost_amount*1e-6, # Function of provider column input\n",
    "    SomeExchangeRate=1.5 # Literal input\n",
    ")\n",
    "print(f\"With 4 cols selected + 2 aliases there will be {len(selected.get_columns())} columns returned.\")"
   ]
  },
  {
   "cell_type": "markdown",
   "metadata": {},
   "source": [
    "We can use the `.print_sql()` method with any expression to see the SQL string that it resolves to. "
   ]
  },
  {
   "cell_type": "code",
   "execution_count": 8,
   "metadata": {},
   "outputs": [
    {
     "name": "stdout",
     "output_type": "stream",
     "text": [
      "\n",
      "select\n",
      "  [LusidInstrumentId], [CostAmount], [CostCurrency], [SettledUnits], [CostAmount] * 1e-06 as [Millions], 1.5 as [SomeExchangeRate] \n",
      "from\n",
      "  Lusid.Portfolio.Holding \n",
      "where\n",
      "  [EffectiveAt] = #2021-03-01 00:00:00.000000# and [AsAt] = #2021-03-08 00:00:00.000000#\n"
     ]
    }
   ],
   "source": [
    "selected.print_sql()"
   ]
  },
  {
   "cell_type": "markdown",
   "metadata": {},
   "source": [
    "Once select is called we can then chain off other methods that represent other SQL clauses. For example we can add a `limit 5` as follows. "
   ]
  },
  {
   "cell_type": "code",
   "execution_count": 9,
   "metadata": {},
   "outputs": [],
   "source": [
    "qry = selected.limit(5)"
   ]
  },
  {
   "cell_type": "markdown",
   "metadata": {},
   "source": [
    "Once you are happy with your query you can send it off to luminesce by call its go method. If an object has a go() method it should always be valid SQL. This method will send the query off, monitor its progress in the cell and then get the result back once finished as a pandas DataFrame. "
   ]
  },
  {
   "cell_type": "code",
   "execution_count": 10,
   "metadata": {},
   "outputs": [
    {
     "data": {
      "text/html": [
       "<div>\n",
       "<style scoped>\n",
       "    .dataframe tbody tr th:only-of-type {\n",
       "        vertical-align: middle;\n",
       "    }\n",
       "\n",
       "    .dataframe tbody tr th {\n",
       "        vertical-align: top;\n",
       "    }\n",
       "\n",
       "    .dataframe thead th {\n",
       "        text-align: right;\n",
       "    }\n",
       "</style>\n",
       "<table border=\"1\" class=\"dataframe\">\n",
       "  <thead>\n",
       "    <tr style=\"text-align: right;\">\n",
       "      <th></th>\n",
       "      <th>LusidInstrumentId</th>\n",
       "      <th>CostAmount</th>\n",
       "      <th>CostCurrency</th>\n",
       "      <th>SettledUnits</th>\n",
       "      <th>Millions</th>\n",
       "      <th>SomeExchangeRate</th>\n",
       "    </tr>\n",
       "  </thead>\n",
       "  <tbody>\n",
       "    <tr>\n",
       "      <th>0</th>\n",
       "      <td>LUID_JTQY6QFI</td>\n",
       "      <td>2.390760e+09</td>\n",
       "      <td>USD</td>\n",
       "      <td>1.200000e+07</td>\n",
       "      <td>2390.760000</td>\n",
       "      <td>1.5</td>\n",
       "    </tr>\n",
       "    <tr>\n",
       "      <th>1</th>\n",
       "      <td>LUID_J4G8D0DV</td>\n",
       "      <td>1.329858e+09</td>\n",
       "      <td>EUR</td>\n",
       "      <td>8.390274e+06</td>\n",
       "      <td>1329.858354</td>\n",
       "      <td>1.5</td>\n",
       "    </tr>\n",
       "    <tr>\n",
       "      <th>2</th>\n",
       "      <td>LUID_TMYK4GZV</td>\n",
       "      <td>7.197106e+10</td>\n",
       "      <td>JPY</td>\n",
       "      <td>1.098658e+07</td>\n",
       "      <td>71971.057729</td>\n",
       "      <td>1.5</td>\n",
       "    </tr>\n",
       "    <tr>\n",
       "      <th>3</th>\n",
       "      <td>LUID_WW55WKWV</td>\n",
       "      <td>-1.092849e+09</td>\n",
       "      <td>USD</td>\n",
       "      <td>-8.191471e+06</td>\n",
       "      <td>-1092.849359</td>\n",
       "      <td>1.5</td>\n",
       "    </tr>\n",
       "    <tr>\n",
       "      <th>4</th>\n",
       "      <td>LUID_7M3OX0BB</td>\n",
       "      <td>1.314567e+09</td>\n",
       "      <td>USD</td>\n",
       "      <td>1.085971e+07</td>\n",
       "      <td>1314.567397</td>\n",
       "      <td>1.5</td>\n",
       "    </tr>\n",
       "  </tbody>\n",
       "</table>\n",
       "</div>"
      ],
      "text/plain": [
       "  LusidInstrumentId    CostAmount CostCurrency  SettledUnits      Millions  \\\n",
       "0     LUID_JTQY6QFI  2.390760e+09          USD  1.200000e+07   2390.760000   \n",
       "1     LUID_J4G8D0DV  1.329858e+09          EUR  8.390274e+06   1329.858354   \n",
       "2     LUID_TMYK4GZV  7.197106e+10          JPY  1.098658e+07  71971.057729   \n",
       "3     LUID_WW55WKWV -1.092849e+09          USD -8.191471e+06  -1092.849359   \n",
       "4     LUID_7M3OX0BB  1.314567e+09          USD  1.085971e+07   1314.567397   \n",
       "\n",
       "   SomeExchangeRate  \n",
       "0               1.5  \n",
       "1               1.5  \n",
       "2               1.5  \n",
       "3               1.5  \n",
       "4               1.5  "
      ]
     },
     "execution_count": 10,
     "metadata": {},
     "output_type": "execute_result"
    }
   ],
   "source": [
    "df = qry.go()\n",
    "df"
   ]
  },
  {
   "cell_type": "markdown",
   "metadata": {},
   "source": [
    "## Column Expressions\n",
    "\n",
    "You can build up complex expressions easily using normal python. N.B. that you must use the `&` operator with bracketed expressions and not `and` in a similar way to filtering pandas. This is because the `and` operator casts its result to a boolean and doesn't allow the sort of operator overloading we want to use here. \n",
    "\n",
    "The following expression gets holdings in the Finbourne-Examples scope with cost in USD"
   ]
  },
  {
   "cell_type": "code",
   "execution_count": 11,
   "metadata": {},
   "outputs": [
    {
     "data": {
      "text/plain": [
       "└•Boolean ⬅ SQL Piece: ([PortfolioScope] = 'Finbourne-Examples') and ([CostCurrency] = 'USD')\n",
       "   └•[\u001b[34mAND\u001b[0m]\n",
       "      ├•Boolean ⬅ SQL Piece: [PortfolioScope] = 'Finbourne-Examples'\n",
       "      │  └•[\u001b[34mEQUAL\u001b[0m]\n",
       "      │     ├•Text ⬅ SQL Piece: [PortfolioScope]\n",
       "      │     │  └•[\u001b[34mCOLUMN INPUT\u001b[0m]\n",
       "      │     │     Lusid.Portfolio.Holding: PortfolioScope\n",
       "      │     └•Text ⬅ SQL Piece: 'Finbourne-Examples'\n",
       "      │        └•[\u001b[34mLITERAL\u001b[0m]\n",
       "      │           literal_input: 'Finbourne-Examples'\n",
       "      └•Boolean ⬅ SQL Piece: [CostCurrency] = 'USD'\n",
       "         └•[\u001b[34mEQUAL\u001b[0m]\n",
       "            ├•Text ⬅ SQL Piece: [CostCurrency]\n",
       "            │  └•[\u001b[34mCOLUMN INPUT\u001b[0m]\n",
       "            │     Lusid.Portfolio.Holding: CostCurrency\n",
       "            └•Text ⬅ SQL Piece: 'USD'\n",
       "               └•[\u001b[34mLITERAL\u001b[0m]\n",
       "                  literal_input: 'USD'"
      ]
     },
     "execution_count": 11,
     "metadata": {},
     "output_type": "execute_result"
    }
   ],
   "source": [
    "condition = (holdings.portfolio_scope == 'Finbourne-Examples') & (holdings.cost_currency == 'USD')\n",
    "# Show the underlying DAG\n",
    "condition"
   ]
  },
  {
   "cell_type": "markdown",
   "metadata": {},
   "source": [
    "## Where Filter Expression\n",
    "\n",
    "Apply the above condition in a where expression. \n",
    "\n",
    "Can also use `filter` instead of where. It resolves to the same SQL. "
   ]
  },
  {
   "cell_type": "code",
   "execution_count": 12,
   "metadata": {},
   "outputs": [],
   "source": [
    "qry = holdings.select(\n",
    "    holdings.cost_currency,\n",
    "    holdings.lusid_instrument_id,\n",
    "    holdings.portfolio_scope,\n",
    "    holdings.cost_amount_portfolio_currency\n",
    ").where(\n",
    "    condition\n",
    ")"
   ]
  },
  {
   "cell_type": "code",
   "execution_count": 13,
   "metadata": {
    "scrolled": false
   },
   "outputs": [
    {
     "data": {
      "text/html": [
       "<div>\n",
       "<style scoped>\n",
       "    .dataframe tbody tr th:only-of-type {\n",
       "        vertical-align: middle;\n",
       "    }\n",
       "\n",
       "    .dataframe tbody tr th {\n",
       "        vertical-align: top;\n",
       "    }\n",
       "\n",
       "    .dataframe thead th {\n",
       "        text-align: right;\n",
       "    }\n",
       "</style>\n",
       "<table border=\"1\" class=\"dataframe\">\n",
       "  <thead>\n",
       "    <tr style=\"text-align: right;\">\n",
       "      <th></th>\n",
       "      <th>CostCurrency</th>\n",
       "      <th>LusidInstrumentId</th>\n",
       "      <th>PortfolioScope</th>\n",
       "      <th>CostAmountPortfolioCurrency</th>\n",
       "    </tr>\n",
       "  </thead>\n",
       "  <tbody>\n",
       "    <tr>\n",
       "      <th>0</th>\n",
       "      <td>USD</td>\n",
       "      <td>LUID_JTQY6QFI</td>\n",
       "      <td>Finbourne-Examples</td>\n",
       "      <td>1.822715e+09</td>\n",
       "    </tr>\n",
       "    <tr>\n",
       "      <th>1</th>\n",
       "      <td>USD</td>\n",
       "      <td>LUID_WW55WKWV</td>\n",
       "      <td>Finbourne-Examples</td>\n",
       "      <td>-8.224518e+08</td>\n",
       "    </tr>\n",
       "    <tr>\n",
       "      <th>2</th>\n",
       "      <td>USD</td>\n",
       "      <td>LUID_7M3OX0BB</td>\n",
       "      <td>Finbourne-Examples</td>\n",
       "      <td>1.002226e+09</td>\n",
       "    </tr>\n",
       "    <tr>\n",
       "      <th>3</th>\n",
       "      <td>USD</td>\n",
       "      <td>LUID_1W5WYN3O</td>\n",
       "      <td>Finbourne-Examples</td>\n",
       "      <td>1.760183e+09</td>\n",
       "    </tr>\n",
       "    <tr>\n",
       "      <th>4</th>\n",
       "      <td>USD</td>\n",
       "      <td>CCY_USD</td>\n",
       "      <td>Finbourne-Examples</td>\n",
       "      <td>0.000000e+00</td>\n",
       "    </tr>\n",
       "  </tbody>\n",
       "</table>\n",
       "</div>"
      ],
      "text/plain": [
       "  CostCurrency LusidInstrumentId      PortfolioScope  \\\n",
       "0          USD     LUID_JTQY6QFI  Finbourne-Examples   \n",
       "1          USD     LUID_WW55WKWV  Finbourne-Examples   \n",
       "2          USD     LUID_7M3OX0BB  Finbourne-Examples   \n",
       "3          USD     LUID_1W5WYN3O  Finbourne-Examples   \n",
       "4          USD           CCY_USD  Finbourne-Examples   \n",
       "\n",
       "   CostAmountPortfolioCurrency  \n",
       "0                 1.822715e+09  \n",
       "1                -8.224518e+08  \n",
       "2                 1.002226e+09  \n",
       "3                 1.760183e+09  \n",
       "4                 0.000000e+00  "
      ]
     },
     "execution_count": 13,
     "metadata": {},
     "output_type": "execute_result"
    }
   ],
   "source": [
    "df = qry.go()\n",
    "df.head()"
   ]
  },
  {
   "cell_type": "markdown",
   "metadata": {},
   "source": [
    "## Group by / Aggregation Expression and Order By\n",
    "\n",
    "Aggregate total cost holdings by instrument ID, order by total cost and limit to top 5. \n",
    "\n",
    "The `.group_by()` method must be followed by the `.aggregate()` method and the aggregations must be named by supplying them as keyword arguments. Aggregations are built by calling methods on column expressions such as `.sum()` or `.mean()`.\n",
    "\n",
    "The `.order_by()` method will accept any number of orderings and will sort in the method arg order. Orderings are created by calling the `.ascending()` or `.descending()` methods on a column expression. "
   ]
  },
  {
   "cell_type": "code",
   "execution_count": 14,
   "metadata": {},
   "outputs": [
    {
     "data": {
      "text/plain": [
       "└•Decimal ⬅ SQL Piece: total([CostAmountPortfolioCurrency])\n",
       "   └•[\u001b[34mTOTAL\u001b[0m]\n",
       "      └•Decimal ⬅ SQL Piece: [CostAmountPortfolioCurrency]\n",
       "         └•[\u001b[34mCOLUMN INPUT\u001b[0m]\n",
       "            Lusid.Portfolio.Holding: CostAmountPortfolioCurrency"
      ]
     },
     "execution_count": 14,
     "metadata": {},
     "output_type": "execute_result"
    }
   ],
   "source": [
    "total_cost = holdings.cost_amount_portfolio_currency.sum()\n",
    "total_cost"
   ]
  },
  {
   "cell_type": "code",
   "execution_count": 15,
   "metadata": {},
   "outputs": [
    {
     "data": {
      "text/plain": [
       "└•Ordering ⬅ SQL Piece: total([CostAmountPortfolioCurrency]) desc\n",
       "   └•[\u001b[34mDESC ORDER\u001b[0m]\n",
       "      └•Decimal ⬅ SQL Piece: total([CostAmountPortfolioCurrency])\n",
       "         └•[\u001b[34mTOTAL\u001b[0m]\n",
       "            └•Decimal ⬅ SQL Piece: [CostAmountPortfolioCurrency]\n",
       "               └•[\u001b[34mCOLUMN INPUT\u001b[0m]\n",
       "                  Lusid.Portfolio.Holding: CostAmountPortfolioCurrency"
      ]
     },
     "execution_count": 15,
     "metadata": {},
     "output_type": "execute_result"
    }
   ],
   "source": [
    "ordering = total_cost.descending()\n",
    "ordering"
   ]
  },
  {
   "cell_type": "code",
   "execution_count": 16,
   "metadata": {},
   "outputs": [],
   "source": [
    "top5_cost = holdings.select(\n",
    "    holdings.cost_currency,\n",
    "    holdings.lusid_instrument_id,\n",
    ").where(\n",
    "    condition\n",
    ").group_by(\n",
    "    holdings.lusid_instrument_id\n",
    ").aggregate(\n",
    "    TotalCostAmount=total_cost\n",
    ").order_by(\n",
    "    ordering\n",
    ").limit(5)"
   ]
  },
  {
   "cell_type": "code",
   "execution_count": 17,
   "metadata": {},
   "outputs": [
    {
     "data": {
      "text/html": [
       "<div>\n",
       "<style scoped>\n",
       "    .dataframe tbody tr th:only-of-type {\n",
       "        vertical-align: middle;\n",
       "    }\n",
       "\n",
       "    .dataframe tbody tr th {\n",
       "        vertical-align: top;\n",
       "    }\n",
       "\n",
       "    .dataframe thead th {\n",
       "        text-align: right;\n",
       "    }\n",
       "</style>\n",
       "<table border=\"1\" class=\"dataframe\">\n",
       "  <thead>\n",
       "    <tr style=\"text-align: right;\">\n",
       "      <th></th>\n",
       "      <th>CostCurrency</th>\n",
       "      <th>LusidInstrumentId</th>\n",
       "      <th>TotalCostAmount</th>\n",
       "    </tr>\n",
       "  </thead>\n",
       "  <tbody>\n",
       "    <tr>\n",
       "      <th>0</th>\n",
       "      <td>USD</td>\n",
       "      <td>LUID_JTQY6QFI</td>\n",
       "      <td>1.822715e+09</td>\n",
       "    </tr>\n",
       "    <tr>\n",
       "      <th>1</th>\n",
       "      <td>USD</td>\n",
       "      <td>LUID_1W5WYN3O</td>\n",
       "      <td>1.760183e+09</td>\n",
       "    </tr>\n",
       "    <tr>\n",
       "      <th>2</th>\n",
       "      <td>USD</td>\n",
       "      <td>LUID_7M3OX0BB</td>\n",
       "      <td>1.002226e+09</td>\n",
       "    </tr>\n",
       "    <tr>\n",
       "      <th>3</th>\n",
       "      <td>USD</td>\n",
       "      <td>LUID_2VUE91BY</td>\n",
       "      <td>1.527824e+08</td>\n",
       "    </tr>\n",
       "    <tr>\n",
       "      <th>4</th>\n",
       "      <td>USD</td>\n",
       "      <td>LUID_XB11B4VW</td>\n",
       "      <td>1.134238e+08</td>\n",
       "    </tr>\n",
       "  </tbody>\n",
       "</table>\n",
       "</div>"
      ],
      "text/plain": [
       "  CostCurrency LusidInstrumentId  TotalCostAmount\n",
       "0          USD     LUID_JTQY6QFI     1.822715e+09\n",
       "1          USD     LUID_1W5WYN3O     1.760183e+09\n",
       "2          USD     LUID_7M3OX0BB     1.002226e+09\n",
       "3          USD     LUID_2VUE91BY     1.527824e+08\n",
       "4          USD     LUID_XB11B4VW     1.134238e+08"
      ]
     },
     "execution_count": 17,
     "metadata": {},
     "output_type": "execute_result"
    }
   ],
   "source": [
    "df = top5_cost.go()\n",
    "df"
   ]
  },
  {
   "cell_type": "markdown",
   "metadata": {},
   "source": [
    "## Having Filter Expression\n",
    "\n",
    "Filter the above aggregation for only rows over one billion in cost\n",
    "\n",
    "Can also use `filter` instead of having. It resolves to the same SQL. "
   ]
  },
  {
   "cell_type": "code",
   "execution_count": 18,
   "metadata": {},
   "outputs": [
    {
     "data": {
      "text/html": [
       "<div>\n",
       "<style scoped>\n",
       "    .dataframe tbody tr th:only-of-type {\n",
       "        vertical-align: middle;\n",
       "    }\n",
       "\n",
       "    .dataframe tbody tr th {\n",
       "        vertical-align: top;\n",
       "    }\n",
       "\n",
       "    .dataframe thead th {\n",
       "        text-align: right;\n",
       "    }\n",
       "</style>\n",
       "<table border=\"1\" class=\"dataframe\">\n",
       "  <thead>\n",
       "    <tr style=\"text-align: right;\">\n",
       "      <th></th>\n",
       "      <th>CostCurrency</th>\n",
       "      <th>LusidInstrumentId</th>\n",
       "      <th>TotalCostAmount</th>\n",
       "    </tr>\n",
       "  </thead>\n",
       "  <tbody>\n",
       "    <tr>\n",
       "      <th>0</th>\n",
       "      <td>USD</td>\n",
       "      <td>LUID_1W5WYN3O</td>\n",
       "      <td>1.760183e+09</td>\n",
       "    </tr>\n",
       "    <tr>\n",
       "      <th>1</th>\n",
       "      <td>USD</td>\n",
       "      <td>LUID_7M3OX0BB</td>\n",
       "      <td>1.002226e+09</td>\n",
       "    </tr>\n",
       "    <tr>\n",
       "      <th>2</th>\n",
       "      <td>USD</td>\n",
       "      <td>LUID_JTQY6QFI</td>\n",
       "      <td>1.822715e+09</td>\n",
       "    </tr>\n",
       "  </tbody>\n",
       "</table>\n",
       "</div>"
      ],
      "text/plain": [
       "  CostCurrency LusidInstrumentId  TotalCostAmount\n",
       "0          USD     LUID_1W5WYN3O     1.760183e+09\n",
       "1          USD     LUID_7M3OX0BB     1.002226e+09\n",
       "2          USD     LUID_JTQY6QFI     1.822715e+09"
      ]
     },
     "execution_count": 18,
     "metadata": {},
     "output_type": "execute_result"
    }
   ],
   "source": [
    "over_1billion = holdings.select(\n",
    "    holdings.cost_currency,\n",
    "    holdings.lusid_instrument_id,\n",
    ").where(\n",
    "    condition\n",
    ").group_by(\n",
    "    holdings.lusid_instrument_id\n",
    ").aggregate(\n",
    "    TotalCostAmount=total_cost\n",
    ").having(\n",
    "    total_cost > 1e9\n",
    ")\n",
    "over_1billion.go()"
   ]
  }
 ],
 "metadata": {
  "kernelspec": {
   "display_name": "Python 3",
   "language": "python",
   "name": "python3"
  },
  "language_info": {
   "codemirror_mode": {
    "name": "ipython",
    "version": 3
   },
   "file_extension": ".py",
   "mimetype": "text/x-python",
   "name": "python",
   "nbconvert_exporter": "python",
   "pygments_lexer": "ipython3",
   "version": "3.8.5"
  }
 },
 "nbformat": 4,
 "nbformat_minor": 4
}
