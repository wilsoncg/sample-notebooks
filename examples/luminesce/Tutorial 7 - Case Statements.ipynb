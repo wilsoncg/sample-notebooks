{
 "cells": [
  {
   "cell_type": "code",
   "execution_count": 1,
   "metadata": {},
   "outputs": [],
   "source": [
    "from lusidjam import RefreshingToken as rt\n",
    "\n",
    "atlas = lm.get_atlas(token=rt())"
   ]
  },
  {
   "cell_type": "markdown",
   "metadata": {},
   "source": [
    "# Tutorial 7 - Case Statements in Fluent Syntax\n",
    "\n",
    "Case statements are expressions much like `if`/`else` statements in other programming languages. They consist of a chain of `WHEN` (condition) and `THEN` (value) pairs ending in an `ELSE` that covers the value of the default case. \n",
    "For example\n",
    "```\n",
    "CASE\n",
    "  WHEN some_value > 5 and some_value < 10\n",
    "  THEN 'large'\n",
    "  WHEN some_value > 0 and some_value < 5\n",
    "  THEN 'medium'\n",
    "  ELSE 'out of bounds'\n",
    "END\n",
    "```\n",
    "\n",
    "In `lumipy` these are built by calling the `.when()` method on a table and supplying a condition to it (column expression that resolves to a bool). Next you chain a then by calling the `.then()` method and supplying a python literal value or a column expression. This pattern is repeated until you've covered the cases and ends by setting the default by calling `.otherwise()` and optionally supplying a python literal value or a column expression. If no input is given here the default case will just evaluate to `null`. \n",
    "```\n",
    "case = table.when(\n",
    "    (table.some_value > 5) & (table.some_value < 10)\n",
    ").then(\"large\").when(\n",
    "    (table.some_value > 0) & (table.some_value < 5)\n",
    ").then(\"medium\").otherwise(\"out of bounds\")\n",
    "```"
   ]
  },
  {
   "cell_type": "code",
   "execution_count": 2,
   "metadata": {},
   "outputs": [],
   "source": [
    "portfolios = atlas.lusid_portfolio()\n",
    "holdings = atlas.lusid_portfolio_holding()\n",
    "properties = atlas.lusid_property()"
   ]
  },
  {
   "cell_type": "markdown",
   "metadata": {},
   "source": [
    "## Example 1\n",
    "\n",
    "Add a new column (`InstrumentTheme`) with a value that depends on whether the portfolio code has 'bond', 'equity' or 'swap' in it. \n",
    "\n",
    "Note that because this is not an original column of the table but a derived one it must be supplied as a keyword arg in the `select()` method. This is how the case expression gets a name. "
   ]
  },
  {
   "cell_type": "code",
   "execution_count": 3,
   "metadata": {},
   "outputs": [],
   "source": [
    "case = portfolios.when(\n",
    "    portfolios.portfolio_code.contains('equit')\n",
    ").then(\"Equity\").when(\n",
    "    portfolios.portfolio_code.contains('bond')\n",
    ").then(\"Debt\").when(\n",
    "    portfolios.portfolio_code.contains('swap')\n",
    ").then(\"Swap\").otherwise('Other')"
   ]
  },
  {
   "cell_type": "code",
   "execution_count": 4,
   "metadata": {
    "scrolled": false
   },
   "outputs": [
    {
     "data": {
      "text/html": [
       "<div>\n",
       "<style scoped>\n",
       "    .dataframe tbody tr th:only-of-type {\n",
       "        vertical-align: middle;\n",
       "    }\n",
       "\n",
       "    .dataframe tbody tr th {\n",
       "        vertical-align: top;\n",
       "    }\n",
       "\n",
       "    .dataframe thead th {\n",
       "        text-align: right;\n",
       "    }\n",
       "</style>\n",
       "<table border=\"1\" class=\"dataframe\">\n",
       "  <thead>\n",
       "    <tr style=\"text-align: right;\">\n",
       "      <th></th>\n",
       "      <th>BaseCurrency</th>\n",
       "      <th>PortfolioCode</th>\n",
       "      <th>PortfolioScope</th>\n",
       "      <th>PortfolioType</th>\n",
       "      <th>InstrumentTheme</th>\n",
       "    </tr>\n",
       "  </thead>\n",
       "  <tbody>\n",
       "    <tr>\n",
       "      <th>0</th>\n",
       "      <td>GBP</td>\n",
       "      <td>UK-Swaps-aggressive</td>\n",
       "      <td>Finbourne-Examples</td>\n",
       "      <td>Transaction</td>\n",
       "      <td>Swap</td>\n",
       "    </tr>\n",
       "    <tr>\n",
       "      <th>1</th>\n",
       "      <td>GBP</td>\n",
       "      <td>Global-Equity</td>\n",
       "      <td>Finbourne-Examples</td>\n",
       "      <td>Transaction</td>\n",
       "      <td>Equity</td>\n",
       "    </tr>\n",
       "    <tr>\n",
       "      <th>2</th>\n",
       "      <td>GBP</td>\n",
       "      <td>UK-Equities</td>\n",
       "      <td>Finbourne-Examples</td>\n",
       "      <td>Transaction</td>\n",
       "      <td>Equity</td>\n",
       "    </tr>\n",
       "    <tr>\n",
       "      <th>3</th>\n",
       "      <td>USD</td>\n",
       "      <td>US-Corporate-Bond</td>\n",
       "      <td>Finbourne-Examples</td>\n",
       "      <td>Transaction</td>\n",
       "      <td>Debt</td>\n",
       "    </tr>\n",
       "    <tr>\n",
       "      <th>4</th>\n",
       "      <td>USD</td>\n",
       "      <td>US-Treasury-Bond</td>\n",
       "      <td>Finbourne-Examples</td>\n",
       "      <td>Transaction</td>\n",
       "      <td>Debt</td>\n",
       "    </tr>\n",
       "  </tbody>\n",
       "</table>\n",
       "</div>"
      ],
      "text/plain": [
       "  BaseCurrency        PortfolioCode      PortfolioScope PortfolioType  \\\n",
       "0          GBP  UK-Swaps-aggressive  Finbourne-Examples   Transaction   \n",
       "1          GBP        Global-Equity  Finbourne-Examples   Transaction   \n",
       "2          GBP          UK-Equities  Finbourne-Examples   Transaction   \n",
       "3          USD    US-Corporate-Bond  Finbourne-Examples   Transaction   \n",
       "4          USD     US-Treasury-Bond  Finbourne-Examples   Transaction   \n",
       "\n",
       "  InstrumentTheme  \n",
       "0            Swap  \n",
       "1          Equity  \n",
       "2          Equity  \n",
       "3            Debt  \n",
       "4            Debt  "
      ]
     },
     "execution_count": 4,
     "metadata": {},
     "output_type": "execute_result"
    }
   ],
   "source": [
    "pf_qry = portfolios.select(\n",
    "    '^',\n",
    "    InstrumentTheme=case\n",
    ").where(\n",
    "    portfolios.portfolio_scope == 'Finbourne-Examples'\n",
    ")\n",
    "pf_df = pf_qry.go()\n",
    "pf_df"
   ]
  },
  {
   "cell_type": "code",
   "execution_count": 5,
   "metadata": {},
   "outputs": [
    {
     "name": "stdout",
     "output_type": "stream",
     "text": [
      "\n",
      "select\n",
      "  [BaseCurrency], [PortfolioCode], [PortfolioScope], [PortfolioType], (  \n",
      "  CASE\n",
      "      WHEN [PortfolioCode] like '%equit%'\n",
      "        THEN 'Equity'\n",
      "      WHEN [PortfolioCode] like '%bond%'\n",
      "        THEN 'Debt'\n",
      "      WHEN [PortfolioCode] like '%swap%'\n",
      "        THEN 'Swap'\n",
      "    ELSE 'Other'\n",
      "  END\n",
      ") as [InstrumentTheme] \n",
      "from\n",
      "  Lusid.Portfolio \n",
      "where\n",
      "  [PortfolioScope] = 'Finbourne-Examples'\n"
     ]
    }
   ],
   "source": [
    "# print the underlying SQL for inspection\n",
    "pf_qry.print_sql()"
   ]
  },
  {
   "cell_type": "markdown",
   "metadata": {},
   "source": [
    "## Example 2\n",
    "\n",
    "This next example shows how you can use a column expression in the `then()` method and how a case statement can be built up inside a for loop. \n",
    "\n",
    "We have a dictionary of currencies and their conversion rate to dollars. This case will return the holdings cost amount multiplied by the rate given the currency. If the currency rate isn't available it'll default to `null`."
   ]
  },
  {
   "cell_type": "code",
   "execution_count": 6,
   "metadata": {},
   "outputs": [],
   "source": [
    "ccy_rates_to_usd = {\n",
    "    'USD': 1.0,\n",
    "    'GBP': 1.38,\n",
    "    'EUR': 1.19,\n",
    "    'JPY': 0.0091\n",
    "}\n",
    "\n",
    "conv_case = holdings\n",
    "for ccy, rate in ccy_rates_to_usd.items():\n",
    "    \n",
    "    conv_case = conv_case.when(\n",
    "        holdings.cost_currency == ccy\n",
    "    ).then(\n",
    "        rate*holdings.cost_amount\n",
    "    )\n",
    "\n",
    "conv_case = conv_case.otherwise() # default case (null)"
   ]
  },
  {
   "cell_type": "code",
   "execution_count": 7,
   "metadata": {
    "scrolled": false
   },
   "outputs": [
    {
     "data": {
      "text/html": [
       "<div>\n",
       "<style scoped>\n",
       "    .dataframe tbody tr th:only-of-type {\n",
       "        vertical-align: middle;\n",
       "    }\n",
       "\n",
       "    .dataframe tbody tr th {\n",
       "        vertical-align: top;\n",
       "    }\n",
       "\n",
       "    .dataframe thead th {\n",
       "        text-align: right;\n",
       "    }\n",
       "</style>\n",
       "<table border=\"1\" class=\"dataframe\">\n",
       "  <thead>\n",
       "    <tr style=\"text-align: right;\">\n",
       "      <th></th>\n",
       "      <th>LusidInstrumentId</th>\n",
       "      <th>PortfolioCode</th>\n",
       "      <th>Units</th>\n",
       "      <th>CostCurrency</th>\n",
       "      <th>CostAmount</th>\n",
       "      <th>CostAmountUSD</th>\n",
       "    </tr>\n",
       "  </thead>\n",
       "  <tbody>\n",
       "    <tr>\n",
       "      <th>0</th>\n",
       "      <td>LUID_JTQY6QFI</td>\n",
       "      <td>Global-Equity</td>\n",
       "      <td>1.200000e+07</td>\n",
       "      <td>USD</td>\n",
       "      <td>2.390760e+09</td>\n",
       "      <td>2.390760e+09</td>\n",
       "    </tr>\n",
       "    <tr>\n",
       "      <th>1</th>\n",
       "      <td>LUID_J4G8D0DV</td>\n",
       "      <td>Global-Equity</td>\n",
       "      <td>8.390274e+06</td>\n",
       "      <td>EUR</td>\n",
       "      <td>1.329858e+09</td>\n",
       "      <td>1.582531e+09</td>\n",
       "    </tr>\n",
       "    <tr>\n",
       "      <th>2</th>\n",
       "      <td>LUID_TMYK4GZV</td>\n",
       "      <td>Global-Equity</td>\n",
       "      <td>1.098658e+07</td>\n",
       "      <td>JPY</td>\n",
       "      <td>7.197106e+10</td>\n",
       "      <td>6.549366e+08</td>\n",
       "    </tr>\n",
       "    <tr>\n",
       "      <th>3</th>\n",
       "      <td>LUID_WW55WKWV</td>\n",
       "      <td>Global-Equity</td>\n",
       "      <td>-8.191471e+06</td>\n",
       "      <td>USD</td>\n",
       "      <td>-1.092849e+09</td>\n",
       "      <td>-1.092849e+09</td>\n",
       "    </tr>\n",
       "    <tr>\n",
       "      <th>4</th>\n",
       "      <td>LUID_7M3OX0BB</td>\n",
       "      <td>Global-Equity</td>\n",
       "      <td>1.085971e+07</td>\n",
       "      <td>USD</td>\n",
       "      <td>1.314567e+09</td>\n",
       "      <td>1.314567e+09</td>\n",
       "    </tr>\n",
       "  </tbody>\n",
       "</table>\n",
       "</div>"
      ],
      "text/plain": [
       "  LusidInstrumentId  PortfolioCode         Units CostCurrency    CostAmount  \\\n",
       "0     LUID_JTQY6QFI  Global-Equity  1.200000e+07          USD  2.390760e+09   \n",
       "1     LUID_J4G8D0DV  Global-Equity  8.390274e+06          EUR  1.329858e+09   \n",
       "2     LUID_TMYK4GZV  Global-Equity  1.098658e+07          JPY  7.197106e+10   \n",
       "3     LUID_WW55WKWV  Global-Equity -8.191471e+06          USD -1.092849e+09   \n",
       "4     LUID_7M3OX0BB  Global-Equity  1.085971e+07          USD  1.314567e+09   \n",
       "\n",
       "   CostAmountUSD  \n",
       "0   2.390760e+09  \n",
       "1   1.582531e+09  \n",
       "2   6.549366e+08  \n",
       "3  -1.092849e+09  \n",
       "4   1.314567e+09  "
      ]
     },
     "execution_count": 7,
     "metadata": {},
     "output_type": "execute_result"
    }
   ],
   "source": [
    "hld_qry = holdings.select(\n",
    "    holdings.lusid_instrument_id,\n",
    "    holdings.portfolio_code,\n",
    "    holdings.units,\n",
    "    holdings.cost_currency,     \n",
    "    holdings.cost_amount,   \n",
    "    CostAmountUSD=conv_case    \n",
    ").where(\n",
    "    holdings.portfolio_scope == 'Finbourne-Examples'\n",
    ")\n",
    "hld_df = hld_qry.go()\n",
    "hld_df.head()"
   ]
  },
  {
   "cell_type": "code",
   "execution_count": 8,
   "metadata": {},
   "outputs": [
    {
     "name": "stdout",
     "output_type": "stream",
     "text": [
      "\n",
      "select\n",
      "  [LusidInstrumentId], [PortfolioCode], [Units], [CostCurrency], [CostAmount], (  \n",
      "  CASE\n",
      "      WHEN [CostCurrency] = 'USD'\n",
      "        THEN [CostAmount] * 1.0\n",
      "      WHEN [CostCurrency] = 'GBP'\n",
      "        THEN [CostAmount] * 1.38\n",
      "      WHEN [CostCurrency] = 'EUR'\n",
      "        THEN [CostAmount] * 1.19\n",
      "      WHEN [CostCurrency] = 'JPY'\n",
      "        THEN [CostAmount] * 0.0091\n",
      "    ELSE null\n",
      "  END\n",
      ") as [CostAmountUSD] \n",
      "from\n",
      "  Lusid.Portfolio.Holding \n",
      "where\n",
      "  [PortfolioScope] = 'Finbourne-Examples'\n"
     ]
    }
   ],
   "source": [
    "hld_qry.print_sql()"
   ]
  }
 ],
 "metadata": {
  "kernelspec": {
   "display_name": "Python 3",
   "language": "python",
   "name": "python3"
  },
  "language_info": {
   "codemirror_mode": {
    "name": "ipython",
    "version": 3
   },
   "file_extension": ".py",
   "mimetype": "text/x-python",
   "name": "python",
   "nbconvert_exporter": "python",
   "pygments_lexer": "ipython3",
   "version": "3.8.5"
  }
 },
 "nbformat": 4,
 "nbformat_minor": 4
}
