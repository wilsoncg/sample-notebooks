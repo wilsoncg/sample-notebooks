{
 "cells": [
  {
   "cell_type": "code",
   "execution_count": 1,
   "metadata": {},
   "outputs": [],
   "source": [
    "import lumipy as lm\n",
    "from lusidjam import RefreshingToken as rt\n",
    "\n",
    "atlas = lm.get_atlas(token=rt())"
   ]
  },
  {
   "cell_type": "code",
   "execution_count": 2,
   "metadata": {},
   "outputs": [
    {
     "data": {
      "text/plain": [
       "['UK-Equities', 'Global-Equity']"
      ]
     },
     "execution_count": 2,
     "metadata": {},
     "output_type": "execute_result"
    }
   ],
   "source": [
    "portfolios = atlas.lusid_portfolio()\n",
    "\n",
    "pf_codes = portfolios.select(portfolios.portfolio_code).where(\n",
    "    (portfolios.portfolio_scope == 'Finbourne-Examples') &\n",
    "    (portfolios.portfolio_code.like('%equ%')) &\n",
    "    (portfolios.portfolio_code.not_like('%swap%'))\n",
    ").go().PortfolioCode.tolist()\n",
    "\n",
    "pf_codes"
   ]
  },
  {
   "cell_type": "markdown",
   "metadata": {},
   "source": [
    "# Tutorial 6 - Unions\n",
    "\n",
    "In this tutorial we'll build up a more complicated query where we use `union` concatenate a collection of table variable subqueries each of which depend on a scalar variable. "
   ]
  },
  {
   "cell_type": "code",
   "execution_count": 3,
   "metadata": {},
   "outputs": [],
   "source": [
    "holding = atlas.lusid_portfolio_holding()"
   ]
  },
  {
   "cell_type": "code",
   "execution_count": 4,
   "metadata": {},
   "outputs": [],
   "source": [
    "def subquery(pf_code):\n",
    "\n",
    "    total_cost = holding.select(\n",
    "        TotalCost=holding.cost_amount_portfolio_currency.sum()\n",
    "    ).where(\n",
    "        (holding.portfolio_code == pf_code) & \n",
    "        (holding.portfolio_scope == 'Finbourne-Examples')\n",
    "    ).to_scalar_var()\n",
    "\n",
    "    cost_table = holding.select(\n",
    "        holding.portfolio_code,\n",
    "        holding.lusid_instrument_id, \n",
    "        holding.cost_amount_portfolio_currency,\n",
    "        CostFractionPc=100*holding.cost_amount_portfolio_currency/total_cost\n",
    "    ).where(\n",
    "        (holding.portfolio_code == pf_code) & \n",
    "        (holding.portfolio_scope == 'Finbourne-Examples')\n",
    "    ).order_by(\n",
    "        (holding.cost_amount_portfolio_currency/total_cost).descending()\n",
    "    ).limit(\n",
    "        5\n",
    "    ).to_table_var()\n",
    "    \n",
    "    return cost_table.select('*')\n"
   ]
  },
  {
   "cell_type": "code",
   "execution_count": 5,
   "metadata": {
    "scrolled": false
   },
   "outputs": [
    {
     "data": {
      "text/html": [
       "<div>\n",
       "<style scoped>\n",
       "    .dataframe tbody tr th:only-of-type {\n",
       "        vertical-align: middle;\n",
       "    }\n",
       "\n",
       "    .dataframe tbody tr th {\n",
       "        vertical-align: top;\n",
       "    }\n",
       "\n",
       "    .dataframe thead th {\n",
       "        text-align: right;\n",
       "    }\n",
       "</style>\n",
       "<table border=\"1\" class=\"dataframe\">\n",
       "  <thead>\n",
       "    <tr style=\"text-align: right;\">\n",
       "      <th></th>\n",
       "      <th>PortfolioCode</th>\n",
       "      <th>LusidInstrumentId</th>\n",
       "      <th>CostAmountPortfolioCurrency</th>\n",
       "      <th>CostFractionPc</th>\n",
       "    </tr>\n",
       "  </thead>\n",
       "  <tbody>\n",
       "    <tr>\n",
       "      <th>0</th>\n",
       "      <td>Global-Equity</td>\n",
       "      <td>LUID_1W5WYN3O</td>\n",
       "      <td>1.760183e+09</td>\n",
       "      <td>20.114573</td>\n",
       "    </tr>\n",
       "    <tr>\n",
       "      <th>1</th>\n",
       "      <td>Global-Equity</td>\n",
       "      <td>LUID_4CINGMZM</td>\n",
       "      <td>1.322168e+09</td>\n",
       "      <td>15.109133</td>\n",
       "    </tr>\n",
       "    <tr>\n",
       "      <th>2</th>\n",
       "      <td>Global-Equity</td>\n",
       "      <td>LUID_GJ9TICS4</td>\n",
       "      <td>1.050759e+09</td>\n",
       "      <td>12.007598</td>\n",
       "    </tr>\n",
       "    <tr>\n",
       "      <th>3</th>\n",
       "      <td>Global-Equity</td>\n",
       "      <td>LUID_J4G8D0DV</td>\n",
       "      <td>1.146539e+09</td>\n",
       "      <td>13.102119</td>\n",
       "    </tr>\n",
       "    <tr>\n",
       "      <th>4</th>\n",
       "      <td>Global-Equity</td>\n",
       "      <td>LUID_JTQY6QFI</td>\n",
       "      <td>1.822715e+09</td>\n",
       "      <td>20.829161</td>\n",
       "    </tr>\n",
       "    <tr>\n",
       "      <th>5</th>\n",
       "      <td>UK-Equities</td>\n",
       "      <td>LUID_941RZG0H</td>\n",
       "      <td>2.871400e+05</td>\n",
       "      <td>2.965447</td>\n",
       "    </tr>\n",
       "    <tr>\n",
       "      <th>6</th>\n",
       "      <td>UK-Equities</td>\n",
       "      <td>LUID_ARH76A7B</td>\n",
       "      <td>2.314375e+05</td>\n",
       "      <td>2.390177</td>\n",
       "    </tr>\n",
       "    <tr>\n",
       "      <th>7</th>\n",
       "      <td>UK-Equities</td>\n",
       "      <td>LUID_E9EW4TBO</td>\n",
       "      <td>3.868000e+05</td>\n",
       "      <td>3.994688</td>\n",
       "    </tr>\n",
       "    <tr>\n",
       "      <th>8</th>\n",
       "      <td>UK-Equities</td>\n",
       "      <td>LUID_KJFBD4GQ</td>\n",
       "      <td>5.552418e+06</td>\n",
       "      <td>57.342760</td>\n",
       "    </tr>\n",
       "    <tr>\n",
       "      <th>9</th>\n",
       "      <td>UK-Equities</td>\n",
       "      <td>LUID_LH6UUF74</td>\n",
       "      <td>2.585520e+06</td>\n",
       "      <td>26.702035</td>\n",
       "    </tr>\n",
       "  </tbody>\n",
       "</table>\n",
       "</div>"
      ],
      "text/plain": [
       "   PortfolioCode LusidInstrumentId  CostAmountPortfolioCurrency  \\\n",
       "0  Global-Equity     LUID_1W5WYN3O                 1.760183e+09   \n",
       "1  Global-Equity     LUID_4CINGMZM                 1.322168e+09   \n",
       "2  Global-Equity     LUID_GJ9TICS4                 1.050759e+09   \n",
       "3  Global-Equity     LUID_J4G8D0DV                 1.146539e+09   \n",
       "4  Global-Equity     LUID_JTQY6QFI                 1.822715e+09   \n",
       "5    UK-Equities     LUID_941RZG0H                 2.871400e+05   \n",
       "6    UK-Equities     LUID_ARH76A7B                 2.314375e+05   \n",
       "7    UK-Equities     LUID_E9EW4TBO                 3.868000e+05   \n",
       "8    UK-Equities     LUID_KJFBD4GQ                 5.552418e+06   \n",
       "9    UK-Equities     LUID_LH6UUF74                 2.585520e+06   \n",
       "\n",
       "   CostFractionPc  \n",
       "0       20.114573  \n",
       "1       15.109133  \n",
       "2       12.007598  \n",
       "3       13.102119  \n",
       "4       20.829161  \n",
       "5        2.965447  \n",
       "6        2.390177  \n",
       "7        3.994688  \n",
       "8       57.342760  \n",
       "9       26.702035  "
      ]
     },
     "execution_count": 5,
     "metadata": {},
     "output_type": "execute_result"
    }
   ],
   "source": [
    "qry = lm.concat(map(subquery, pf_codes))\n",
    "df = qry.go()\n",
    "df"
   ]
  },
  {
   "cell_type": "code",
   "execution_count": 6,
   "metadata": {
    "scrolled": false
   },
   "outputs": [
    {
     "name": "stdout",
     "output_type": "stream",
     "text": [
      "@@sv_429244219210369233 = \n",
      "select\n",
      "  total([CostAmountPortfolioCurrency]) as [TotalCost] \n",
      "from\n",
      "  Lusid.Portfolio.Holding \n",
      "where\n",
      "  ([PortfolioCode] = 'UK-Equities') and ([PortfolioScope] = 'Finbourne-Examples');\n",
      "\n",
      "@@sv_63693781723779070 = \n",
      "select\n",
      "  total([CostAmountPortfolioCurrency]) as [TotalCost] \n",
      "from\n",
      "  Lusid.Portfolio.Holding \n",
      "where\n",
      "  ([PortfolioCode] = 'Global-Equity') and ([PortfolioScope] = 'Finbourne-Examples');\n",
      "\n",
      "@tv_63921535230829207 = \n",
      "select\n",
      "  [PortfolioCode], [LusidInstrumentId], [CostAmountPortfolioCurrency], ([CostAmountPortfolioCurrency] * 100) / @@sv_429244219210369233 as [CostFractionPc] \n",
      "from\n",
      "  Lusid.Portfolio.Holding \n",
      "where\n",
      "  ([PortfolioCode] = 'UK-Equities') and ([PortfolioScope] = 'Finbourne-Examples') \n",
      "order by\n",
      "  [CostAmountPortfolioCurrency] / @@sv_429244219210369233 desc \n",
      "limit\n",
      "  5;\n",
      "\n",
      "@tv_74848762479102352 = \n",
      "select\n",
      "  [PortfolioCode], [LusidInstrumentId], [CostAmountPortfolioCurrency], ([CostAmountPortfolioCurrency] * 100) / @@sv_63693781723779070 as [CostFractionPc] \n",
      "from\n",
      "  Lusid.Portfolio.Holding \n",
      "where\n",
      "  ([PortfolioCode] = 'Global-Equity') and ([PortfolioScope] = 'Finbourne-Examples') \n",
      "order by\n",
      "  [CostAmountPortfolioCurrency] / @@sv_63693781723779070 desc \n",
      "limit\n",
      "  5;\n",
      "\n",
      "\n",
      "select\n",
      "  [PortfolioCode], [LusidInstrumentId], [CostAmountPortfolioCurrency], [CostFractionPc] \n",
      "from\n",
      "  @tv_63921535230829207\n",
      " union\n",
      "  \n",
      "select\n",
      "  [PortfolioCode], [LusidInstrumentId], [CostAmountPortfolioCurrency], [CostFractionPc] \n",
      "from\n",
      "  @tv_74848762479102352\n"
     ]
    }
   ],
   "source": [
    "# Print the underlying SQL\n",
    "qry.print_sql()"
   ]
  },
  {
   "cell_type": "markdown",
   "metadata": {},
   "source": [
    "## Union Types\n",
    "\n",
    "There are two types of union available: `union` (like above) and `union all` both will concatenate tables of data together along the column axis but the former will filter duplicate rows."
   ]
  },
  {
   "cell_type": "code",
   "execution_count": null,
   "metadata": {},
   "outputs": [],
   "source": []
  }
 ],
 "metadata": {
  "kernelspec": {
   "display_name": "Python 3",
   "language": "python",
   "name": "python3"
  },
  "language_info": {
   "codemirror_mode": {
    "name": "ipython",
    "version": 3
   },
   "file_extension": ".py",
   "mimetype": "text/x-python",
   "name": "python",
   "nbconvert_exporter": "python",
   "pygments_lexer": "ipython3",
   "version": "3.8.5"
  }
 },
 "nbformat": 4,
 "nbformat_minor": 4
}
