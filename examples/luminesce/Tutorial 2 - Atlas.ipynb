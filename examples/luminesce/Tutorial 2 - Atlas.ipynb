{
 "cells": [
  {
   "cell_type": "code",
   "execution_count": 1,
   "metadata": {},
   "outputs": [],
   "source": [
    "import lumipy as lm\n",
    "from datetime import datetime\n",
    "from lusidjam import RefreshingToken as rt\n",
    "\n",
    "def just_lusid(p):\n",
    "    return 'lusid_' in p.get_name() and 'logs' not in p.get_name()"
   ]
  },
  {
   "cell_type": "markdown",
   "metadata": {},
   "source": [
    "# Tutorial 2: Atlas\n",
    "\n",
    "## Introduction\n",
    "The atlas class contains a global view of all of the data sources available to you in luminesce plus some functionality around searching and navigating namespaces. It is the starting point for Lumipy's spark-style fluent syntax. \n",
    "\n",
    "\n",
    "## Building the Atlas\n",
    "\n",
    "Atlases are built by calling the `.get_atlas()` function at the top of the `lumipy` module.\n",
    "\n",
    "The `.search_providers(just_lusid)` method chained on the result is so only lusid providers show up in the cells below. "
   ]
  },
  {
   "cell_type": "code",
   "execution_count": 2,
   "metadata": {},
   "outputs": [],
   "source": [
    "atlas = lm.get_atlas(token=rt()).search_providers(just_lusid)"
   ]
  },
  {
   "cell_type": "markdown",
   "metadata": {},
   "source": [
    "## Using the Atlas\n",
    "\n",
    "The atlas can be printed to get a view of all the data providers available to the current user. Information on each provider exists as an attribute of the atlas. You can use `tab` completion to pick them out."
   ]
  },
  {
   "cell_type": "code",
   "execution_count": 3,
   "metadata": {
    "scrolled": false
   },
   "outputs": [
    {
     "data": {
      "text/plain": [
       " 🌏Atlas\n",
       "  ├•Metadata:\n",
       "  │ ├•atlas_type: Search Result\n",
       "  │ └•search_target: \"<function just_lusid at 0x107acaca0>\"\n",
       "  └•Available providers:\n",
       "    ├•Provider Definition: lusid_instrument (Lusid.Instrument)\n",
       "    │  ├•Type: DataProvider\n",
       "    │  ├•Category: Lusid\n",
       "    │  ├•Description: Returns Lusid Instrument data\n",
       "    │  ├•Documentation: [Not Available]\n",
       "    │  └•Last Ping At: 2021-06-13 14:11:47.845\n",
       "    │                           \n",
       "    ├•Provider Definition: lusid_instrument_property (Lusid.Instrument.Property)\n",
       "    │  ├•Type: DataProvider\n",
       "    │  ├•Category: Lusid\n",
       "    │  ├•Description: Query for the values of instrument properties.\n",
       "    │  ├•Documentation: [Not Available]\n",
       "    │  └•Last Ping At: 2021-06-13 14:11:47.845\n",
       "    │                           \n",
       "    ├•Provider Definition: lusid_instrument_quote (Lusid.Instrument.Quote)\n",
       "    │  ├•Type: DataProvider\n",
       "    │  ├•Category: Lusid\n",
       "    │  ├•Description: Returns Lusid Quotes\n",
       "    │  ├•Documentation: [Not Available]\n",
       "    │  └•Last Ping At: 2021-06-13 14:11:47.845\n",
       "    │                           \n",
       "    ├•Provider Definition: lusid_instrument_writer (Lusid.Instrument.Writer)\n",
       "    │  ├•Type: DataProvider\n",
       "    │  ├•Category: Lusid\n",
       "    │  ├•Description: Writes Lusid Instrument data\n",
       "    │  ├•Documentation: [Not Available]\n",
       "    │  └•Last Ping At: 2021-06-13 14:11:47.845\n",
       "    │                           \n",
       "    ├•Provider Definition: lusid_legalentity (Lusid.LegalEntity)\n",
       "    │  ├•Type: DataProvider\n",
       "    │  ├•Category: Lusid\n",
       "    │  ├•Description: Returns user defined identifiers and properties for Legal Entities.\n",
       "    │  ├•Documentation: [Not Available]\n",
       "    │  └•Last Ping At: 2021-06-13 14:11:47.845\n",
       "    │                           \n",
       "    ├•Provider Definition: lusid_portfolio (Lusid.Portfolio)\n",
       "    │  ├•Type: DataProvider\n",
       "    │  ├•Category: Lusid\n",
       "    │  ├•Description: Returns Lusid Portfolio data\n",
       "    │  ├•Documentation: [Not Available]\n",
       "    │  └•Last Ping At: 2021-06-13 14:11:47.845\n",
       "    │                           \n",
       "    ├•Provider Definition: lusid_portfolio_fbnexamplespfcodes (Lusid.Portfolio.Fbnexamplespfcodes)\n",
       "    │  ├•Type: DataProvider\n",
       "    │  ├•Category: View\n",
       "    │  ├•Description: View 'Lusid.Portfolio.Fbnexamplespfcodes'\n",
       "    │  ├•Documentation: [Not Available]\n",
       "    │  └•Last Ping At: 2021-06-13 14:11:46.972\n",
       "    │                           \n",
       "    ├•Provider Definition: lusid_portfolio_holding (Lusid.Portfolio.Holding)\n",
       "    │  ├•Type: DataProvider\n",
       "    │  ├•Category: Lusid\n",
       "    │  ├•Description: Returns Lusid Portfolio / Holdings data\n",
       "    │  ├•Documentation: [Not Available]\n",
       "    │  └•Last Ping At: 2021-06-13 14:11:47.845\n",
       "    │                           \n",
       "    ├•Provider Definition: lusid_portfolio_txn (Lusid.Portfolio.Txn)\n",
       "    │  ├•Type: DataProvider\n",
       "    │  ├•Category: Lusid\n",
       "    │  ├•Description: Returns Lusid Portfolio / Transaction / Movement data\n",
       "    │  ├•Documentation: [Not Available]\n",
       "    │  └•Last Ping At: 2021-06-13 14:11:47.845\n",
       "    │                           \n",
       "    ├•Provider Definition: lusid_portfolio_txn_property (Lusid.Portfolio.Txn.Property)\n",
       "    │  ├•Type: DataProvider\n",
       "    │  ├•Category: Lusid\n",
       "    │  ├•Description: Query for properties of transactions.\n",
       "    │  ├•Documentation: [Not Available]\n",
       "    │  └•Last Ping At: 2021-06-13 14:11:47.845\n",
       "    │                           \n",
       "    ├•Provider Definition: lusid_property (Lusid.Property)\n",
       "    │  ├•Type: DataProvider\n",
       "    │  ├•Category: Lusid\n",
       "    │  ├•Description: Query for the values of an entity's properties.Currently enabled for the 'Portfolio', 'PortfolioGroup' and 'Instrument' domains.\n",
       "    │  ├•Documentation: [Not Available]\n",
       "    │  └•Last Ping At: 2021-06-13 14:11:47.845\n",
       "    │                           \n",
       "    ├•Provider Definition: lusid_property_definition (Lusid.Property.Definition)\n",
       "    │  ├•Type: DataProvider\n",
       "    │  ├•Category: Lusid\n",
       "    │  ├•Description: Query for details about a property (e.g. display name and constraint type).\n",
       "    │  ├•Documentation: [Not Available]\n",
       "    │  └•Last Ping At: 2021-06-13 14:11:47.845\n",
       "    │                           \n",
       "    └•Provider Definition: lusid_scope (Lusid.Scope)\n",
       "       ├•Type: DataProvider\n",
       "       ├•Category: Lusid\n",
       "       ├•Description: Returns Lusid Data-Scopes\n",
       "       ├•Documentation: [Not Available]\n",
       "       └•Last Ping At: 2021-06-13 14:11:47.845\n",
       "                                "
      ]
     },
     "execution_count": 3,
     "metadata": {},
     "output_type": "execute_result"
    }
   ],
   "source": [
    "atlas"
   ]
  },
  {
   "cell_type": "markdown",
   "metadata": {},
   "source": [
    "Each attribute contains all the information that characterises a Luminesce data provider. This can be inspected in the same way."
   ]
  },
  {
   "cell_type": "code",
   "execution_count": 4,
   "metadata": {},
   "outputs": [
    {
     "data": {
      "text/plain": [
       "└•Provider Definition: lusid_portfolio (Lusid.Portfolio)\n",
       "   ├•Type: DataProvider\n",
       "   ├•Category: Lusid\n",
       "   ├•Description: Returns Lusid Portfolio data\n",
       "   ├•Documentation: [Not Available]\n",
       "   ├•Last Ping At: 2021-06-13 14:11:47.845\n",
       "   └•Fields:\n",
       "      ├•accounting_method              Column      Text      \n",
       "      ├•as_at                          Parameter   DateTime  \n",
       "      ├•base_currency                  Column      Text      \n",
       "      ├•corporate_action_source_id     Column      Text      \n",
       "      ├•corporate_action_source_scope  Column      Text      \n",
       "      ├•description                    Column      Text      \n",
       "      ├•display_name                   Column      Text      \n",
       "      ├•effective_at                   Parameter   DateTime  \n",
       "      ├•origin_portfolio_code          Column      Text      \n",
       "      ├•origin_portfolio_scope         Column      Text      \n",
       "      ├•portfolio_code                 Column      Text      \n",
       "      ├•portfolio_scope                Column      Text      \n",
       "      ├•portfolio_type                 Column      Text      \n",
       "      └•sub_holding_keys               Column      Text      "
      ]
     },
     "execution_count": 4,
     "metadata": {},
     "output_type": "execute_result"
    }
   ],
   "source": [
    "pf_def = atlas.lusid_portfolio\n",
    "pf_def"
   ]
  },
  {
   "cell_type": "markdown",
   "metadata": {},
   "source": [
    "and the attributes on these are in turn the field definitions (columns and parameters)"
   ]
  },
  {
   "cell_type": "code",
   "execution_count": 5,
   "metadata": {},
   "outputs": [
    {
     "data": {
      "text/plain": [
       "└•Field Definition: base_currency (BaseCurrency)\n",
       "   ├•field_name: BaseCurrency\n",
       "   ├•field_type: Column\n",
       "   ├•table_name: Lusid.Portfolio\n",
       "   ├•data_type: SqlValType.Text\n",
       "   ├•description: nan\n",
       "   ├•is_main: True\n",
       "   ├•is_primary_key: False\n",
       "   ├•param_default_value: nan\n",
       "   └•table_param_columns: nan"
      ]
     },
     "execution_count": 5,
     "metadata": {},
     "output_type": "execute_result"
    }
   ],
   "source": [
    "pf_def.base_currency"
   ]
  },
  {
   "cell_type": "markdown",
   "metadata": {},
   "source": [
    "## Navigation\n",
    "\n",
    "### Search\n",
    "\n",
    "The atlas offers functionality for searching information on the available providers. You can supply a string which will do a case-insensitive search in the provider names, descriptions and field names or a function that maps a provider class' attributes to a boolean. "
   ]
  },
  {
   "cell_type": "code",
   "execution_count": 6,
   "metadata": {
    "scrolled": false
   },
   "outputs": [
    {
     "data": {
      "text/plain": [
       " 🌎Atlas\n",
       "  ├•Metadata:\n",
       "  │ ├•atlas_type: Search Result\n",
       "  │ └•search_target: \"instrument\"\n",
       "  └•Available providers:\n",
       "    ├•Provider Definition: lusid_instrument (Lusid.Instrument)\n",
       "    │  ├•Type: DataProvider\n",
       "    │  ├•Category: Lusid\n",
       "    │  ├•Description: Returns Lusid Instrument data\n",
       "    │  ├•Documentation: [Not Available]\n",
       "    │  └•Last Ping At: 2021-06-13 14:11:47.845\n",
       "    │                           \n",
       "    ├•Provider Definition: lusid_instrument_property (Lusid.Instrument.Property)\n",
       "    │  ├•Type: DataProvider\n",
       "    │  ├•Category: Lusid\n",
       "    │  ├•Description: Query for the values of instrument properties.\n",
       "    │  ├•Documentation: [Not Available]\n",
       "    │  └•Last Ping At: 2021-06-13 14:11:47.845\n",
       "    │                           \n",
       "    ├•Provider Definition: lusid_instrument_quote (Lusid.Instrument.Quote)\n",
       "    │  ├•Type: DataProvider\n",
       "    │  ├•Category: Lusid\n",
       "    │  ├•Description: Returns Lusid Quotes\n",
       "    │  ├•Documentation: [Not Available]\n",
       "    │  └•Last Ping At: 2021-06-13 14:11:47.845\n",
       "    │                           \n",
       "    ├•Provider Definition: lusid_instrument_writer (Lusid.Instrument.Writer)\n",
       "    │  ├•Type: DataProvider\n",
       "    │  ├•Category: Lusid\n",
       "    │  ├•Description: Writes Lusid Instrument data\n",
       "    │  ├•Documentation: [Not Available]\n",
       "    │  └•Last Ping At: 2021-06-13 14:11:47.845\n",
       "    │                           \n",
       "    ├•Provider Definition: lusid_portfolio_holding (Lusid.Portfolio.Holding)\n",
       "    │  ├•Type: DataProvider\n",
       "    │  ├•Category: Lusid\n",
       "    │  ├•Description: Returns Lusid Portfolio / Holdings data\n",
       "    │  ├•Documentation: [Not Available]\n",
       "    │  └•Last Ping At: 2021-06-13 14:11:47.845\n",
       "    │                           \n",
       "    ├•Provider Definition: lusid_portfolio_txn (Lusid.Portfolio.Txn)\n",
       "    │  ├•Type: DataProvider\n",
       "    │  ├•Category: Lusid\n",
       "    │  ├•Description: Returns Lusid Portfolio / Transaction / Movement data\n",
       "    │  ├•Documentation: [Not Available]\n",
       "    │  └•Last Ping At: 2021-06-13 14:11:47.845\n",
       "    │                           \n",
       "    └•Provider Definition: lusid_property (Lusid.Property)\n",
       "       ├•Type: DataProvider\n",
       "       ├•Category: Lusid\n",
       "       ├•Description: Query for the values of an entity's properties.Currently enabled for the 'Portfolio', 'PortfolioGroup' and 'Instrument' domains.\n",
       "       ├•Documentation: [Not Available]\n",
       "       └•Last Ping At: 2021-06-13 14:11:47.845\n",
       "                                "
      ]
     },
     "execution_count": 6,
     "metadata": {},
     "output_type": "execute_result"
    }
   ],
   "source": [
    "atlas.search_providers('instrument')"
   ]
  },
  {
   "cell_type": "markdown",
   "metadata": {},
   "source": [
    "### Namespaces\n",
    "\n",
    "There is a get_namespaces method that will return the sub-namespaces and providers in that namepace. For example getting namespaces in `Lusid.Instrument` returns the instrument property and instrument quote providers. "
   ]
  },
  {
   "cell_type": "code",
   "execution_count": 7,
   "metadata": {},
   "outputs": [
    {
     "data": {
      "text/plain": [
       "['Lusid.Instrument.Writer',\n",
       " 'Lusid.Instrument.Property',\n",
       " 'Lusid.Instrument.Quote']"
      ]
     },
     "execution_count": 7,
     "metadata": {},
     "output_type": "execute_result"
    }
   ],
   "source": [
    "atlas.get_namespaces('Lusid.Instrument')"
   ]
  }
 ],
 "metadata": {
  "kernelspec": {
   "display_name": "Python 3",
   "language": "python",
   "name": "python3"
  },
  "language_info": {
   "codemirror_mode": {
    "name": "ipython",
    "version": 3
   },
   "file_extension": ".py",
   "mimetype": "text/x-python",
   "name": "python",
   "nbconvert_exporter": "python",
   "pygments_lexer": "ipython3",
   "version": "3.8.5"
  }
 },
 "nbformat": 4,
 "nbformat_minor": 4
}
