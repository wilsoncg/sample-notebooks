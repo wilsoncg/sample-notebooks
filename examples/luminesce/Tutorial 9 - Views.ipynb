{
 "cells": [
  {
   "cell_type": "code",
   "execution_count": 1,
   "metadata": {},
   "outputs": [],
   "source": [
    "import lumipy as lm\n",
    "from lusidjam import RefreshingToken as rt\n",
    "\n",
    "atlas = lm.get_atlas(token=rt())"
   ]
  },
  {
   "cell_type": "markdown",
   "metadata": {},
   "source": [
    "# Tutorial 9 - Views\n",
    "\n",
    "Views are repeatable, saved queries in luminesce that behave like a new provider. \n",
    "\n",
    "## Create a Query\n",
    "\n",
    "As an example we'll create a view that provides a list of portfolio codes in the `Finbourne-Examples` scope. We start by building the query"
   ]
  },
  {
   "cell_type": "code",
   "execution_count": 2,
   "metadata": {},
   "outputs": [],
   "source": [
    "portfolio = atlas.lusid_portfolio()\n",
    "qry = portfolio.select(\n",
    "    portfolio.portfolio_code\n",
    ").where(\n",
    "    portfolio.portfolio_scope == 'Finbourne-Examples'\n",
    ")"
   ]
  },
  {
   "cell_type": "markdown",
   "metadata": {},
   "source": [
    "## Publish as a View\n",
    "We can then add an expression to the query that will publish the query as a view. We'll need to supply the new provider name."
   ]
  },
  {
   "cell_type": "code",
   "execution_count": 3,
   "metadata": {},
   "outputs": [],
   "source": [
    "make_view = qry.setup_view(\n",
    "    'Lusid.Portfolio.FbnExamplesPfCodes'\n",
    ")"
   ]
  },
  {
   "cell_type": "code",
   "execution_count": 4,
   "metadata": {},
   "outputs": [
    {
     "data": {
      "text/html": [
       "<div>\n",
       "<style scoped>\n",
       "    .dataframe tbody tr th:only-of-type {\n",
       "        vertical-align: middle;\n",
       "    }\n",
       "\n",
       "    .dataframe tbody tr th {\n",
       "        vertical-align: top;\n",
       "    }\n",
       "\n",
       "    .dataframe thead th {\n",
       "        text-align: right;\n",
       "    }\n",
       "</style>\n",
       "<table border=\"1\" class=\"dataframe\">\n",
       "  <thead>\n",
       "    <tr style=\"text-align: right;\">\n",
       "      <th></th>\n",
       "      <th>PortfolioCode</th>\n",
       "    </tr>\n",
       "  </thead>\n",
       "  <tbody>\n",
       "    <tr>\n",
       "      <th>0</th>\n",
       "      <td>UK-Swaps-aggressive</td>\n",
       "    </tr>\n",
       "    <tr>\n",
       "      <th>1</th>\n",
       "      <td>US-Treasury-Bond</td>\n",
       "    </tr>\n",
       "    <tr>\n",
       "      <th>2</th>\n",
       "      <td>US-Corporate-Bond</td>\n",
       "    </tr>\n",
       "    <tr>\n",
       "      <th>3</th>\n",
       "      <td>UK-Equities</td>\n",
       "    </tr>\n",
       "    <tr>\n",
       "      <th>4</th>\n",
       "      <td>Global-Equity</td>\n",
       "    </tr>\n",
       "  </tbody>\n",
       "</table>\n",
       "</div>"
      ],
      "text/plain": [
       "         PortfolioCode\n",
       "0  UK-Swaps-aggressive\n",
       "1     US-Treasury-Bond\n",
       "2    US-Corporate-Bond\n",
       "3          UK-Equities\n",
       "4        Global-Equity"
      ]
     },
     "execution_count": 4,
     "metadata": {},
     "output_type": "execute_result"
    }
   ],
   "source": [
    "make_view.go()"
   ]
  },
  {
   "cell_type": "markdown",
   "metadata": {},
   "source": [
    "## Refresh the Atlas and Get the View\n",
    "If we rebuild the atlas the created view will appear as a new provider."
   ]
  },
  {
   "cell_type": "code",
   "execution_count": 5,
   "metadata": {},
   "outputs": [
    {
     "data": {
      "text/plain": [
       " 🌎Atlas\n",
       "  ├•Metadata:\n",
       "  │ ├•atlas_type: Search Result\n",
       "  │ └•search_target: \"PfCodes\"\n",
       "  └•Available providers:\n",
       "    └•Provider Definition: lusid_portfolio_fbnexamplespfcodes\n",
       "       ├•Table SQL Name: Lusid.Portfolio.Fbnexamplespfcodes\n",
       "       ├•Type: DataProvider\n",
       "       ├•Category: View\n",
       "       ├•Description: View 'Lusid.Portfolio.Fbnexamplespfcodes'\n",
       "       ├•Documentation: [Not Available]\n",
       "       └•Last Ping At: 2021-06-13 15:04:50.870\n",
       "                                "
      ]
     },
     "execution_count": 5,
     "metadata": {},
     "output_type": "execute_result"
    }
   ],
   "source": [
    "atlas = lm.get_atlas(token=rt())\n",
    "atlas.search_providers('PfCodes')"
   ]
  },
  {
   "cell_type": "code",
   "execution_count": 6,
   "metadata": {},
   "outputs": [],
   "source": [
    "PfCodes = atlas.lusid_portfolio_fbnexamplespfcodes"
   ]
  },
  {
   "cell_type": "markdown",
   "metadata": {},
   "source": [
    "## Query Data from the View\n",
    "\n",
    "We can then query data from the view like any other provider. "
   ]
  },
  {
   "cell_type": "code",
   "execution_count": 7,
   "metadata": {},
   "outputs": [
    {
     "data": {
      "text/html": [
       "<div>\n",
       "<style scoped>\n",
       "    .dataframe tbody tr th:only-of-type {\n",
       "        vertical-align: middle;\n",
       "    }\n",
       "\n",
       "    .dataframe tbody tr th {\n",
       "        vertical-align: top;\n",
       "    }\n",
       "\n",
       "    .dataframe thead th {\n",
       "        text-align: right;\n",
       "    }\n",
       "</style>\n",
       "<table border=\"1\" class=\"dataframe\">\n",
       "  <thead>\n",
       "    <tr style=\"text-align: right;\">\n",
       "      <th></th>\n",
       "      <th>PortfolioCode</th>\n",
       "    </tr>\n",
       "  </thead>\n",
       "  <tbody>\n",
       "    <tr>\n",
       "      <th>0</th>\n",
       "      <td>US-Corporate-Bond</td>\n",
       "    </tr>\n",
       "    <tr>\n",
       "      <th>1</th>\n",
       "      <td>Global-Equity</td>\n",
       "    </tr>\n",
       "    <tr>\n",
       "      <th>2</th>\n",
       "      <td>UK-Equities</td>\n",
       "    </tr>\n",
       "    <tr>\n",
       "      <th>3</th>\n",
       "      <td>UK-Swaps-aggressive</td>\n",
       "    </tr>\n",
       "    <tr>\n",
       "      <th>4</th>\n",
       "      <td>US-Treasury-Bond</td>\n",
       "    </tr>\n",
       "  </tbody>\n",
       "</table>\n",
       "</div>"
      ],
      "text/plain": [
       "         PortfolioCode\n",
       "0    US-Corporate-Bond\n",
       "1        Global-Equity\n",
       "2          UK-Equities\n",
       "3  UK-Swaps-aggressive\n",
       "4     US-Treasury-Bond"
      ]
     },
     "execution_count": 7,
     "metadata": {},
     "output_type": "execute_result"
    }
   ],
   "source": [
    "pf_codes = PfCodes()\n",
    "pf_codes.select('*').go()"
   ]
  }
 ],
 "metadata": {
  "kernelspec": {
   "display_name": "Python 3",
   "language": "python",
   "name": "python3"
  },
  "language_info": {
   "codemirror_mode": {
    "name": "ipython",
    "version": 3
   },
   "file_extension": ".py",
   "mimetype": "text/x-python",
   "name": "python",
   "nbconvert_exporter": "python",
   "pygments_lexer": "ipython3",
   "version": "3.8.5"
  }
 },
 "nbformat": 4,
 "nbformat_minor": 4
}
