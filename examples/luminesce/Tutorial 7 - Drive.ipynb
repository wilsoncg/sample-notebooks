{
 "cells": [
  {
   "cell_type": "code",
   "execution_count": 1,
   "metadata": {},
   "outputs": [],
   "source": [
    "import lumipy as lm\n",
    "from lusidjam import RefreshingToken as rt\n",
    "\n",
    "atlas = lm.get_atlas(token=rt())\n",
    "drive = lm.get_drive(token=rt())"
   ]
  },
  {
   "cell_type": "markdown",
   "metadata": {},
   "source": [
    "# Tutorial 7 - Drive\n",
    "\n",
    "Lumipy supports the use of Luminesce's Drive providers. With these you can build queries that pull data from files in Drive (csv, xlsx and Sqlite) and also write queries that push their results to drive. \n",
    "\n",
    "In addition to the above Lumipy also has helper functionality for creating/deleting folders and for uploading/downloading certain sorts of files (these are shown in later sklearn examples). \n",
    "\n",
    "## Putting Query Results in Drive\n",
    "\n",
    "In this example we will demonstrate how to build a query that pushes its result to Drive as a csv. This simply done by chaining on the `.to_drive(<file path in drive>)` method and then calling `.go()` to start as usual. The file type is inferred from the file type in the file path."
   ]
  },
  {
   "cell_type": "code",
   "execution_count": 2,
   "metadata": {
    "scrolled": false
   },
   "outputs": [
    {
     "data": {
      "text/html": [
       "<div>\n",
       "<style scoped>\n",
       "    .dataframe tbody tr th:only-of-type {\n",
       "        vertical-align: middle;\n",
       "    }\n",
       "\n",
       "    .dataframe tbody tr th {\n",
       "        vertical-align: top;\n",
       "    }\n",
       "\n",
       "    .dataframe thead th {\n",
       "        text-align: right;\n",
       "    }\n",
       "</style>\n",
       "<table border=\"1\" class=\"dataframe\">\n",
       "  <thead>\n",
       "    <tr style=\"text-align: right;\">\n",
       "      <th></th>\n",
       "      <th>VariableName</th>\n",
       "      <th>FileName</th>\n",
       "      <th>RowCount</th>\n",
       "    </tr>\n",
       "  </thead>\n",
       "  <tbody>\n",
       "    <tr>\n",
       "      <th>0</th>\n",
       "      <td>@tv_082543067608897702</td>\n",
       "      <td>//test_pf_list_in_scope</td>\n",
       "      <td>5</td>\n",
       "    </tr>\n",
       "  </tbody>\n",
       "</table>\n",
       "</div>"
      ],
      "text/plain": [
       "             VariableName                 FileName  RowCount\n",
       "0  @tv_082543067608897702  //test_pf_list_in_scope         5"
      ]
     },
     "execution_count": 2,
     "metadata": {},
     "output_type": "execute_result"
    }
   ],
   "source": [
    "portfolio = atlas.lusid_portfolio()\n",
    "qry = portfolio.select(\n",
    "    '*'\n",
    ").where(\n",
    "    portfolio.portfolio_scope == 'Finbourne-Examples'\n",
    ")\n",
    "qry.to_drive(f'/test_pf_list_in_scope.csv').go()"
   ]
  },
  {
   "cell_type": "markdown",
   "metadata": {},
   "source": [
    "## Searching Files in Drive\n",
    "\n",
    "There is also a means to search for files in drive using a data provider: `Drive.File` which can be found in the atlas as `atlas.drive_file`.\n"
   ]
  },
  {
   "cell_type": "code",
   "execution_count": 3,
   "metadata": {
    "scrolled": false
   },
   "outputs": [
    {
     "data": {
      "text/html": [
       "<div>\n",
       "<style scoped>\n",
       "    .dataframe tbody tr th:only-of-type {\n",
       "        vertical-align: middle;\n",
       "    }\n",
       "\n",
       "    .dataframe tbody tr th {\n",
       "        vertical-align: top;\n",
       "    }\n",
       "\n",
       "    .dataframe thead th {\n",
       "        text-align: right;\n",
       "    }\n",
       "</style>\n",
       "<table border=\"1\" class=\"dataframe\">\n",
       "  <thead>\n",
       "    <tr style=\"text-align: right;\">\n",
       "      <th></th>\n",
       "      <th>FullPath</th>\n",
       "    </tr>\n",
       "  </thead>\n",
       "  <tbody>\n",
       "    <tr>\n",
       "      <th>0</th>\n",
       "      <td>/test_pf_list_in_scope.csv</td>\n",
       "    </tr>\n",
       "  </tbody>\n",
       "</table>\n",
       "</div>"
      ],
      "text/plain": [
       "                     FullPath\n",
       "0  /test_pf_list_in_scope.csv"
      ]
     },
     "execution_count": 3,
     "metadata": {},
     "output_type": "execute_result"
    }
   ],
   "source": [
    "file = atlas.drive_file(recurse_depth=1)\n",
    "file.select(file.full_path).where(\n",
    "    file.full_path.like('%_scope.csv')\n",
    ").go()"
   ]
  },
  {
   "cell_type": "markdown",
   "metadata": {},
   "source": [
    "## Using a Drive CSV File in a Query\n",
    "\n",
    "Having put the results of the above query into Drive we can now query it back out. The `.use_csv_file()` method takes a file path and returns a table object that you can use the fluent syntax with as normal. \n",
    "\n",
    "We can see in the example below that the columns we get back match"
   ]
  },
  {
   "cell_type": "code",
   "execution_count": 4,
   "metadata": {
    "scrolled": false
   },
   "outputs": [],
   "source": [
    "csv = drive.use_csv_file('/test_pf_list_in_scope.csv')"
   ]
  },
  {
   "cell_type": "code",
   "execution_count": 5,
   "metadata": {},
   "outputs": [
    {
     "data": {
      "text/plain": [
       "└•Provider Definition: lusid_portfolio\n",
       "   ├•Table SQL Name: Lusid.Portfolio\n",
       "   ├•Type: DataProvider\n",
       "   ├•Category: Lusid\n",
       "   ├•Description: Returns Lusid Portfolio data\n",
       "   ├•Documentation: [Not Available]\n",
       "   ├•Last Ping At: 2021-06-17 12:57:33.622\n",
       "   └•Fields:\n",
       "      ├•accounting_method              Column      Text      \n",
       "      ├•as_at                          Parameter   DateTime  \n",
       "      ├•base_currency                  Column      Text      \n",
       "      ├•corporate_action_source_id     Column      Text      \n",
       "      ├•corporate_action_source_scope  Column      Text      \n",
       "      ├•description                    Column      Text      \n",
       "      ├•display_name                   Column      Text      \n",
       "      ├•effective_at                   Parameter   DateTime  \n",
       "      ├•origin_portfolio_code          Column      Text      \n",
       "      ├•origin_portfolio_scope         Column      Text      \n",
       "      ├•portfolio_code                 Column      Text      \n",
       "      ├•portfolio_scope                Column      Text      \n",
       "      ├•portfolio_type                 Column      Text      \n",
       "      └•sub_holding_keys               Column      Text      "
      ]
     },
     "execution_count": 5,
     "metadata": {},
     "output_type": "execute_result"
    }
   ],
   "source": [
    "atlas.lusid_portfolio"
   ]
  },
  {
   "cell_type": "code",
   "execution_count": 6,
   "metadata": {},
   "outputs": [
    {
     "data": {
      "text/plain": [
       "[└•Text ⬅ SQL Piece: [AccountingMethod]\n",
       "    └•[\u001b[34mCOLUMN INPUT\u001b[0m]\n",
       "       @get_531338256127623910: AccountingMethod,\n",
       " └•Text ⬅ SQL Piece: [BaseCurrency]\n",
       "    └•[\u001b[34mCOLUMN INPUT\u001b[0m]\n",
       "       @get_531338256127623910: BaseCurrency,\n",
       " └•Double ⬅ SQL Piece: [CorporateActionSourceId]\n",
       "    └•[\u001b[34mCOLUMN INPUT\u001b[0m]\n",
       "       @get_531338256127623910: CorporateActionSourceId,\n",
       " └•Double ⬅ SQL Piece: [CorporateActionSourceScope]\n",
       "    └•[\u001b[34mCOLUMN INPUT\u001b[0m]\n",
       "       @get_531338256127623910: CorporateActionSourceScope,\n",
       " └•Double ⬅ SQL Piece: [Description]\n",
       "    └•[\u001b[34mCOLUMN INPUT\u001b[0m]\n",
       "       @get_531338256127623910: Description,\n",
       " └•Text ⬅ SQL Piece: [DisplayName]\n",
       "    └•[\u001b[34mCOLUMN INPUT\u001b[0m]\n",
       "       @get_531338256127623910: DisplayName,\n",
       " └•Text ⬅ SQL Piece: [OriginPortfolioCode]\n",
       "    └•[\u001b[34mCOLUMN INPUT\u001b[0m]\n",
       "       @get_531338256127623910: OriginPortfolioCode,\n",
       " └•Text ⬅ SQL Piece: [OriginPortfolioScope]\n",
       "    └•[\u001b[34mCOLUMN INPUT\u001b[0m]\n",
       "       @get_531338256127623910: OriginPortfolioScope,\n",
       " └•Text ⬅ SQL Piece: [PortfolioCode]\n",
       "    └•[\u001b[34mCOLUMN INPUT\u001b[0m]\n",
       "       @get_531338256127623910: PortfolioCode,\n",
       " └•Text ⬅ SQL Piece: [PortfolioScope]\n",
       "    └•[\u001b[34mCOLUMN INPUT\u001b[0m]\n",
       "       @get_531338256127623910: PortfolioScope,\n",
       " └•Text ⬅ SQL Piece: [PortfolioType]\n",
       "    └•[\u001b[34mCOLUMN INPUT\u001b[0m]\n",
       "       @get_531338256127623910: PortfolioType,\n",
       " └•Double ⬅ SQL Piece: [SubHoldingKeys]\n",
       "    └•[\u001b[34mCOLUMN INPUT\u001b[0m]\n",
       "       @get_531338256127623910: SubHoldingKeys]"
      ]
     },
     "execution_count": 6,
     "metadata": {},
     "output_type": "execute_result"
    }
   ],
   "source": [
    "csv.get_columns()"
   ]
  },
  {
   "cell_type": "code",
   "execution_count": 7,
   "metadata": {},
   "outputs": [
    {
     "data": {
      "text/html": [
       "<div>\n",
       "<style scoped>\n",
       "    .dataframe tbody tr th:only-of-type {\n",
       "        vertical-align: middle;\n",
       "    }\n",
       "\n",
       "    .dataframe tbody tr th {\n",
       "        vertical-align: top;\n",
       "    }\n",
       "\n",
       "    .dataframe thead th {\n",
       "        text-align: right;\n",
       "    }\n",
       "</style>\n",
       "<table border=\"1\" class=\"dataframe\">\n",
       "  <thead>\n",
       "    <tr style=\"text-align: right;\">\n",
       "      <th></th>\n",
       "      <th>AccountingMethod</th>\n",
       "      <th>BaseCurrency</th>\n",
       "      <th>CorporateActionSourceId</th>\n",
       "      <th>CorporateActionSourceScope</th>\n",
       "      <th>Description</th>\n",
       "      <th>DisplayName</th>\n",
       "      <th>OriginPortfolioCode</th>\n",
       "      <th>OriginPortfolioScope</th>\n",
       "      <th>PortfolioCode</th>\n",
       "      <th>PortfolioScope</th>\n",
       "      <th>PortfolioType</th>\n",
       "      <th>SubHoldingKeys</th>\n",
       "    </tr>\n",
       "  </thead>\n",
       "  <tbody>\n",
       "    <tr>\n",
       "      <th>0</th>\n",
       "      <td>Default</td>\n",
       "      <td>USD</td>\n",
       "      <td>NaN</td>\n",
       "      <td>NaN</td>\n",
       "      <td>NaN</td>\n",
       "      <td>US Corporate Bond Fund</td>\n",
       "      <td>fbn-qa/Finbourne-Examples/US-Corporate-Bond</td>\n",
       "      <td>Finbourne-Examples</td>\n",
       "      <td>US-Corporate-Bond</td>\n",
       "      <td>Finbourne-Examples</td>\n",
       "      <td>Transaction</td>\n",
       "      <td>NaN</td>\n",
       "    </tr>\n",
       "    <tr>\n",
       "      <th>1</th>\n",
       "      <td>Default</td>\n",
       "      <td>USD</td>\n",
       "      <td>NaN</td>\n",
       "      <td>NaN</td>\n",
       "      <td>NaN</td>\n",
       "      <td>US$ Treasury Bond Fund</td>\n",
       "      <td>fbn-qa/Finbourne-Examples/US-Treasury-Bond</td>\n",
       "      <td>Finbourne-Examples</td>\n",
       "      <td>US-Treasury-Bond</td>\n",
       "      <td>Finbourne-Examples</td>\n",
       "      <td>Transaction</td>\n",
       "      <td>NaN</td>\n",
       "    </tr>\n",
       "  </tbody>\n",
       "</table>\n",
       "</div>"
      ],
      "text/plain": [
       "  AccountingMethod BaseCurrency  CorporateActionSourceId  \\\n",
       "0          Default          USD                      NaN   \n",
       "1          Default          USD                      NaN   \n",
       "\n",
       "   CorporateActionSourceScope  Description             DisplayName  \\\n",
       "0                         NaN          NaN  US Corporate Bond Fund   \n",
       "1                         NaN          NaN  US$ Treasury Bond Fund   \n",
       "\n",
       "                           OriginPortfolioCode OriginPortfolioScope  \\\n",
       "0  fbn-qa/Finbourne-Examples/US-Corporate-Bond   Finbourne-Examples   \n",
       "1   fbn-qa/Finbourne-Examples/US-Treasury-Bond   Finbourne-Examples   \n",
       "\n",
       "       PortfolioCode      PortfolioScope PortfolioType  SubHoldingKeys  \n",
       "0  US-Corporate-Bond  Finbourne-Examples   Transaction             NaN  \n",
       "1   US-Treasury-Bond  Finbourne-Examples   Transaction             NaN  "
      ]
     },
     "execution_count": 7,
     "metadata": {},
     "output_type": "execute_result"
    }
   ],
   "source": [
    "csv.select('*').where(\n",
    "    csv.portfolio_code.like('%bond%')\n",
    ").go()"
   ]
  },
  {
   "cell_type": "markdown",
   "metadata": {},
   "source": [
    "## Other Formats\n",
    "Other file types in drive can also be used as data providers: `xlsx` and `sqlite`. These are used with the `drive.use_excel_file()` and `drive.use_sqlite_file()` methods respectively."
   ]
  }
 ],
 "metadata": {
  "kernelspec": {
   "display_name": "Python 3",
   "language": "python",
   "name": "python3"
  },
  "language_info": {
   "codemirror_mode": {
    "name": "ipython",
    "version": 3
   },
   "file_extension": ".py",
   "mimetype": "text/x-python",
   "name": "python",
   "nbconvert_exporter": "python",
   "pygments_lexer": "ipython3",
   "version": "3.8.5"
  }
 },
 "nbformat": 4,
 "nbformat_minor": 4
}
