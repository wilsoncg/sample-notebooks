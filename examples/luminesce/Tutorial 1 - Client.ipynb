{
 "cells": [
  {
   "cell_type": "code",
   "execution_count": 1,
   "metadata": {},
   "outputs": [],
   "source": [
    "import lumipy as lm\n",
    "import time\n",
    "from lusidjam import RefreshingToken as rt"
   ]
  },
  {
   "cell_type": "markdown",
   "metadata": {},
   "source": [
    "# Tutorial 1: Client\n",
    "\n",
    "Lumipy provides a client class for interfacing to the Luminesce web API and getting results of queries back as pandas DataFrames. Any query you would normally send with the CLI or web GUI will work in the same way here when you pass in a query string. The methods on the client match those on the web api with a couple of additions for convenience.  \n",
    "\n",
    "## Authentication\n",
    "\n",
    "Credentials can be supplied as a secrets file or as environment variables (for example, when working in a containerised job) or by supplying a valid token directly (e.g. `RefreshingToken()` in Jupyterhub).\n",
    "\n",
    "The secrets file is expected to have the following form\n",
    "```\n",
    "{\n",
    "    \"api\" : {\n",
    "      \"tokenUrl\": \"<auth token url>\",\n",
    "      \"username\": \"<user name>\",\n",
    "      \"password\": \"<user password>\",\n",
    "      \"clientId\": \"<client id>\",\n",
    "      \"clientSecret\": \"<client secret>\",\n",
    "      \"lumiApiUrl\": \"https://<client>.lusid.com/honeycomb/api/\"\n",
    "    }\n",
    "}\n",
    "```\n",
    "\n",
    "## Build the Client Object\n",
    "\n",
    "If no path or token is supplied to the constructor the client will fall back on trying to find authentication information in the available environment variables. The names of these environment variables correspond to the following secrets fields.\n",
    "\n",
    "```\n",
    "    'lumiApiUrl' = 'FBN_LUMI_API_URL',\n",
    "    'tokenUrl' = 'FBN_TOKEN_URL',\n",
    "    'username' = 'FBN_USERNAME',\n",
    "    'password' = 'FBN_PASSWORD',\n",
    "    'clientId' = 'FBN_CLIENT_ID',\n",
    "    'clientSecret' = 'FBN_CLIENT_SECRET'\n",
    "```"
   ]
  },
  {
   "cell_type": "code",
   "execution_count": 2,
   "metadata": {},
   "outputs": [],
   "source": [
    "client = lm.get_client(token=rt())"
   ]
  },
  {
   "cell_type": "markdown",
   "metadata": {},
   "source": [
    "## Sending Queries to Luminesce\n",
    "\n",
    "The client can be used to send SQL query strings to luminesce either synchronously or asynchronously. \n",
    "\n",
    "### Define Query in String\n",
    "In this case we get five rows of instrument data from Lusid. The `^` in Luminesce SQL denotes the subset of columns that are marked as main. Using `*` will get all columns. "
   ]
  },
  {
   "cell_type": "code",
   "execution_count": 3,
   "metadata": {},
   "outputs": [],
   "source": [
    "qry_str = \"\"\"\n",
    "select \n",
    "    ^ \n",
    "from \n",
    "    Lusid.Instrument\n",
    "limit \n",
    "    5\n",
    "\"\"\""
   ]
  },
  {
   "cell_type": "markdown",
   "metadata": {},
   "source": [
    "### Run Synchronously"
   ]
  },
  {
   "cell_type": "code",
   "execution_count": 4,
   "metadata": {},
   "outputs": [
    {
     "data": {
      "text/html": [
       "<div>\n",
       "<style scoped>\n",
       "    .dataframe tbody tr th:only-of-type {\n",
       "        vertical-align: middle;\n",
       "    }\n",
       "\n",
       "    .dataframe tbody tr th {\n",
       "        vertical-align: top;\n",
       "    }\n",
       "\n",
       "    .dataframe thead th {\n",
       "        text-align: right;\n",
       "    }\n",
       "</style>\n",
       "<table border=\"1\" class=\"dataframe\">\n",
       "  <thead>\n",
       "    <tr style=\"text-align: right;\">\n",
       "      <th></th>\n",
       "      <th>LusidInstrumentId</th>\n",
       "      <th>ClientInternal</th>\n",
       "      <th>Quasar</th>\n",
       "      <th>ThirdpartyTicker</th>\n",
       "      <th>NTSecurityNumber</th>\n",
       "      <th>Figi</th>\n",
       "      <th>Cins</th>\n",
       "      <th>SecurityNumber</th>\n",
       "      <th>SecurityUniqueQualifier</th>\n",
       "      <th>InstrumentId</th>\n",
       "      <th>AssetId</th>\n",
       "      <th>BloombergGlobalIndentifier</th>\n",
       "      <th>BloombergUniqueId</th>\n",
       "      <th>DisplayName</th>\n",
       "      <th>IsActive</th>\n",
       "    </tr>\n",
       "  </thead>\n",
       "  <tbody>\n",
       "    <tr>\n",
       "      <th>0</th>\n",
       "      <td>CCY_XDR</td>\n",
       "      <td>NaN</td>\n",
       "      <td>NaN</td>\n",
       "      <td>NaN</td>\n",
       "      <td>NaN</td>\n",
       "      <td>NaN</td>\n",
       "      <td>NaN</td>\n",
       "      <td>NaN</td>\n",
       "      <td>NaN</td>\n",
       "      <td>NaN</td>\n",
       "      <td>NaN</td>\n",
       "      <td>NaN</td>\n",
       "      <td>NaN</td>\n",
       "      <td>Special drawing rights</td>\n",
       "      <td>True</td>\n",
       "    </tr>\n",
       "    <tr>\n",
       "      <th>1</th>\n",
       "      <td>LUID_007IMHTU</td>\n",
       "      <td>3636352-DESSE-EUR</td>\n",
       "      <td>NaN</td>\n",
       "      <td>NaN</td>\n",
       "      <td>NaN</td>\n",
       "      <td>NaN</td>\n",
       "      <td>NaN</td>\n",
       "      <td>NaN</td>\n",
       "      <td>NaN</td>\n",
       "      <td>NaN</td>\n",
       "      <td>NaN</td>\n",
       "      <td>NaN</td>\n",
       "      <td>NaN</td>\n",
       "      <td>7.85% BD REDEEM 24/06/2015 EUR 1000</td>\n",
       "      <td>True</td>\n",
       "    </tr>\n",
       "    <tr>\n",
       "      <th>2</th>\n",
       "      <td>LUID_0043FC8Z</td>\n",
       "      <td>5224761-CABND-CAD</td>\n",
       "      <td>NaN</td>\n",
       "      <td>NaN</td>\n",
       "      <td>NaN</td>\n",
       "      <td>NaN</td>\n",
       "      <td>NaN</td>\n",
       "      <td>NaN</td>\n",
       "      <td>NaN</td>\n",
       "      <td>NaN</td>\n",
       "      <td>NaN</td>\n",
       "      <td>NaN</td>\n",
       "      <td>NaN</td>\n",
       "      <td>ZC NT REDEEM 04/08/2022 CAD 100</td>\n",
       "      <td>True</td>\n",
       "    </tr>\n",
       "    <tr>\n",
       "      <th>3</th>\n",
       "      <td>CCY_SBD</td>\n",
       "      <td>NaN</td>\n",
       "      <td>NaN</td>\n",
       "      <td>NaN</td>\n",
       "      <td>NaN</td>\n",
       "      <td>NaN</td>\n",
       "      <td>NaN</td>\n",
       "      <td>NaN</td>\n",
       "      <td>NaN</td>\n",
       "      <td>NaN</td>\n",
       "      <td>NaN</td>\n",
       "      <td>NaN</td>\n",
       "      <td>NaN</td>\n",
       "      <td>Solomon Islands dollar</td>\n",
       "      <td>True</td>\n",
       "    </tr>\n",
       "    <tr>\n",
       "      <th>4</th>\n",
       "      <td>LUID_0079PN8M</td>\n",
       "      <td>2179045-DESSE-</td>\n",
       "      <td>NaN</td>\n",
       "      <td>NaN</td>\n",
       "      <td>NaN</td>\n",
       "      <td>NaN</td>\n",
       "      <td>NaN</td>\n",
       "      <td>NaN</td>\n",
       "      <td>NaN</td>\n",
       "      <td>NaN</td>\n",
       "      <td>NaN</td>\n",
       "      <td>NaN</td>\n",
       "      <td>NaN</td>\n",
       "      <td>KO PUT (Intercell AG) E 01/01/9999 EUR 21.4413</td>\n",
       "      <td>True</td>\n",
       "    </tr>\n",
       "  </tbody>\n",
       "</table>\n",
       "</div>"
      ],
      "text/plain": [
       "  LusidInstrumentId     ClientInternal  Quasar  ThirdpartyTicker  \\\n",
       "0           CCY_XDR                NaN     NaN               NaN   \n",
       "1     LUID_007IMHTU  3636352-DESSE-EUR     NaN               NaN   \n",
       "2     LUID_0043FC8Z  5224761-CABND-CAD     NaN               NaN   \n",
       "3           CCY_SBD                NaN     NaN               NaN   \n",
       "4     LUID_0079PN8M     2179045-DESSE-     NaN               NaN   \n",
       "\n",
       "   NTSecurityNumber  Figi  Cins  SecurityNumber  SecurityUniqueQualifier  \\\n",
       "0               NaN   NaN   NaN             NaN                      NaN   \n",
       "1               NaN   NaN   NaN             NaN                      NaN   \n",
       "2               NaN   NaN   NaN             NaN                      NaN   \n",
       "3               NaN   NaN   NaN             NaN                      NaN   \n",
       "4               NaN   NaN   NaN             NaN                      NaN   \n",
       "\n",
       "   InstrumentId  AssetId  BloombergGlobalIndentifier  BloombergUniqueId  \\\n",
       "0           NaN      NaN                         NaN                NaN   \n",
       "1           NaN      NaN                         NaN                NaN   \n",
       "2           NaN      NaN                         NaN                NaN   \n",
       "3           NaN      NaN                         NaN                NaN   \n",
       "4           NaN      NaN                         NaN                NaN   \n",
       "\n",
       "                                      DisplayName  IsActive  \n",
       "0                          Special drawing rights      True  \n",
       "1             7.85% BD REDEEM 24/06/2015 EUR 1000      True  \n",
       "2                 ZC NT REDEEM 04/08/2022 CAD 100      True  \n",
       "3                          Solomon Islands dollar      True  \n",
       "4  KO PUT (Intercell AG) E 01/01/9999 EUR 21.4413      True  "
      ]
     },
     "execution_count": 4,
     "metadata": {},
     "output_type": "execute_result"
    }
   ],
   "source": [
    "df = client.query_and_fetch(qry_str)\n",
    "df"
   ]
  },
  {
   "cell_type": "markdown",
   "metadata": {},
   "source": [
    "### Run Asynchronously\n",
    "\n",
    "Start the query and get store the execution ID you get back."
   ]
  },
  {
   "cell_type": "code",
   "execution_count": 5,
   "metadata": {},
   "outputs": [
    {
     "name": "stdout",
     "output_type": "stream",
     "text": [
      "Query started with execution id = 8100a47d-cbf5-4eef-8c27-29ba03c3b207\n"
     ]
    }
   ],
   "source": [
    "ex_id = client.start_query(qry_str)\n",
    "print(f'Query started with execution id = {ex_id}')"
   ]
  },
  {
   "cell_type": "markdown",
   "metadata": {},
   "source": [
    "Check the query's status. This returns the JSON formatted status response as a dictionary."
   ]
  },
  {
   "cell_type": "code",
   "execution_count": 6,
   "metadata": {},
   "outputs": [],
   "source": [
    "status = client.get_status(ex_id)\n",
    "while not status['status'] == 'RanToCompletion':\n",
    "    status = client.get_status(ex_id)\n",
    "    time.sleep(1)"
   ]
  },
  {
   "cell_type": "markdown",
   "metadata": {},
   "source": [
    "Get the data from the completed query using the execution ID. "
   ]
  },
  {
   "cell_type": "code",
   "execution_count": 7,
   "metadata": {},
   "outputs": [
    {
     "name": "stdout",
     "output_type": "stream",
     "text": [
      "Fetching data... 📡\n",
      "  Page   0 downloaded (5 rows).\n",
      "Data fetch finished\n"
     ]
    },
    {
     "data": {
      "text/html": [
       "<div>\n",
       "<style scoped>\n",
       "    .dataframe tbody tr th:only-of-type {\n",
       "        vertical-align: middle;\n",
       "    }\n",
       "\n",
       "    .dataframe tbody tr th {\n",
       "        vertical-align: top;\n",
       "    }\n",
       "\n",
       "    .dataframe thead th {\n",
       "        text-align: right;\n",
       "    }\n",
       "</style>\n",
       "<table border=\"1\" class=\"dataframe\">\n",
       "  <thead>\n",
       "    <tr style=\"text-align: right;\">\n",
       "      <th></th>\n",
       "      <th>LusidInstrumentId</th>\n",
       "      <th>ClientInternal</th>\n",
       "      <th>Quasar</th>\n",
       "      <th>ThirdpartyTicker</th>\n",
       "      <th>NTSecurityNumber</th>\n",
       "      <th>Figi</th>\n",
       "      <th>Cins</th>\n",
       "      <th>SecurityNumber</th>\n",
       "      <th>SecurityUniqueQualifier</th>\n",
       "      <th>InstrumentId</th>\n",
       "      <th>AssetId</th>\n",
       "      <th>BloombergGlobalIndentifier</th>\n",
       "      <th>BloombergUniqueId</th>\n",
       "      <th>DisplayName</th>\n",
       "      <th>IsActive</th>\n",
       "    </tr>\n",
       "  </thead>\n",
       "  <tbody>\n",
       "    <tr>\n",
       "      <th>0</th>\n",
       "      <td>LUID_007LKSRP</td>\n",
       "      <td>4534914-HKSEHK-</td>\n",
       "      <td>NaN</td>\n",
       "      <td>NaN</td>\n",
       "      <td>NaN</td>\n",
       "      <td>NaN</td>\n",
       "      <td>NaN</td>\n",
       "      <td>NaN</td>\n",
       "      <td>NaN</td>\n",
       "      <td>NaN</td>\n",
       "      <td>NaN</td>\n",
       "      <td>NaN</td>\n",
       "      <td>NaN</td>\n",
       "      <td>KO PUT (HSI) E 27/11/2015 HKD 27050</td>\n",
       "      <td>True</td>\n",
       "    </tr>\n",
       "    <tr>\n",
       "      <th>1</th>\n",
       "      <td>LUID_0076I1DQ</td>\n",
       "      <td>5263121-USTRCE-USD</td>\n",
       "      <td>NaN</td>\n",
       "      <td>NaN</td>\n",
       "      <td>NaN</td>\n",
       "      <td>NaN</td>\n",
       "      <td>NaN</td>\n",
       "      <td>NaN</td>\n",
       "      <td>NaN</td>\n",
       "      <td>NaN</td>\n",
       "      <td>NaN</td>\n",
       "      <td>NaN</td>\n",
       "      <td>NaN</td>\n",
       "      <td>2.25% BD REDEEM 13/09/2020 USD 200000 - Reg S</td>\n",
       "      <td>True</td>\n",
       "    </tr>\n",
       "    <tr>\n",
       "      <th>2</th>\n",
       "      <td>LUID_007VOPP5</td>\n",
       "      <td>16341-ROBSE-RON</td>\n",
       "      <td>NaN</td>\n",
       "      <td>NaN</td>\n",
       "      <td>NaN</td>\n",
       "      <td>NaN</td>\n",
       "      <td>NaN</td>\n",
       "      <td>NaN</td>\n",
       "      <td>NaN</td>\n",
       "      <td>NaN</td>\n",
       "      <td>NaN</td>\n",
       "      <td>NaN</td>\n",
       "      <td>NaN</td>\n",
       "      <td>Ordinary Shares</td>\n",
       "      <td>True</td>\n",
       "    </tr>\n",
       "    <tr>\n",
       "      <th>3</th>\n",
       "      <td>LUID_005AKPYR</td>\n",
       "      <td>5585374-TWTSE-</td>\n",
       "      <td>NaN</td>\n",
       "      <td>NaN</td>\n",
       "      <td>NaN</td>\n",
       "      <td>NaN</td>\n",
       "      <td>NaN</td>\n",
       "      <td>NaN</td>\n",
       "      <td>NaN</td>\n",
       "      <td>NaN</td>\n",
       "      <td>NaN</td>\n",
       "      <td>NaN</td>\n",
       "      <td>NaN</td>\n",
       "      <td>CW CALL (Yuanta Sec Inv Trst) A 25/06/2019 TWD...</td>\n",
       "      <td>True</td>\n",
       "    </tr>\n",
       "    <tr>\n",
       "      <th>4</th>\n",
       "      <td>CCY_BZD</td>\n",
       "      <td>NaN</td>\n",
       "      <td>NaN</td>\n",
       "      <td>NaN</td>\n",
       "      <td>NaN</td>\n",
       "      <td>NaN</td>\n",
       "      <td>NaN</td>\n",
       "      <td>NaN</td>\n",
       "      <td>NaN</td>\n",
       "      <td>NaN</td>\n",
       "      <td>NaN</td>\n",
       "      <td>NaN</td>\n",
       "      <td>NaN</td>\n",
       "      <td>Belize dollar</td>\n",
       "      <td>True</td>\n",
       "    </tr>\n",
       "  </tbody>\n",
       "</table>\n",
       "</div>"
      ],
      "text/plain": [
       "  LusidInstrumentId      ClientInternal  Quasar  ThirdpartyTicker  \\\n",
       "0     LUID_007LKSRP     4534914-HKSEHK-     NaN               NaN   \n",
       "1     LUID_0076I1DQ  5263121-USTRCE-USD     NaN               NaN   \n",
       "2     LUID_007VOPP5     16341-ROBSE-RON     NaN               NaN   \n",
       "3     LUID_005AKPYR      5585374-TWTSE-     NaN               NaN   \n",
       "4           CCY_BZD                 NaN     NaN               NaN   \n",
       "\n",
       "   NTSecurityNumber  Figi  Cins  SecurityNumber  SecurityUniqueQualifier  \\\n",
       "0               NaN   NaN   NaN             NaN                      NaN   \n",
       "1               NaN   NaN   NaN             NaN                      NaN   \n",
       "2               NaN   NaN   NaN             NaN                      NaN   \n",
       "3               NaN   NaN   NaN             NaN                      NaN   \n",
       "4               NaN   NaN   NaN             NaN                      NaN   \n",
       "\n",
       "   InstrumentId  AssetId  BloombergGlobalIndentifier  BloombergUniqueId  \\\n",
       "0           NaN      NaN                         NaN                NaN   \n",
       "1           NaN      NaN                         NaN                NaN   \n",
       "2           NaN      NaN                         NaN                NaN   \n",
       "3           NaN      NaN                         NaN                NaN   \n",
       "4           NaN      NaN                         NaN                NaN   \n",
       "\n",
       "                                         DisplayName  IsActive  \n",
       "0                KO PUT (HSI) E 27/11/2015 HKD 27050      True  \n",
       "1      2.25% BD REDEEM 13/09/2020 USD 200000 - Reg S      True  \n",
       "2                                    Ordinary Shares      True  \n",
       "3  CW CALL (Yuanta Sec Inv Trst) A 25/06/2019 TWD...      True  \n",
       "4                                      Belize dollar      True  "
      ]
     },
     "execution_count": 7,
     "metadata": {},
     "output_type": "execute_result"
    }
   ],
   "source": [
    "df = client.get_result(ex_id)\n",
    "df"
   ]
  },
  {
   "cell_type": "markdown",
   "metadata": {},
   "source": [
    "## Table and Field Catalog\n",
    "Returns a table of information on available providers and their fields. "
   ]
  },
  {
   "cell_type": "code",
   "execution_count": null,
   "metadata": {},
   "outputs": [],
   "source": [
    "client.table_field_catalog()"
   ]
  },
  {
   "cell_type": "markdown",
   "metadata": {},
   "source": [
    "## History\n",
    "Query for information on queries that have been run previously"
   ]
  },
  {
   "cell_type": "code",
   "execution_count": 9,
   "metadata": {},
   "outputs": [
    {
     "name": "stdout",
     "output_type": "stream",
     "text": [
      "1b1112e8-1c6e-41d7-820f-84ae0c218b95\n"
     ]
    }
   ],
   "source": [
    "ex_id = client.start_history_query()\n",
    "print(ex_id)"
   ]
  },
  {
   "cell_type": "code",
   "execution_count": 10,
   "metadata": {},
   "outputs": [],
   "source": [
    "status = client.get_status(ex_id)\n",
    "while not status['status'] == 'RanToCompletion':\n",
    "    status = client.get_status(ex_id)\n",
    "    time.sleep(1)"
   ]
  },
  {
   "cell_type": "code",
   "execution_count": null,
   "metadata": {
    "scrolled": false
   },
   "outputs": [],
   "source": [
    "client.get_history_result(ex_id)"
   ]
  }
 ],
 "metadata": {
  "kernelspec": {
   "display_name": "Python 3",
   "language": "python",
   "name": "python3"
  },
  "language_info": {
   "codemirror_mode": {
    "name": "ipython",
    "version": 3
   },
   "file_extension": ".py",
   "mimetype": "text/x-python",
   "name": "python",
   "nbconvert_exporter": "python",
   "pygments_lexer": "ipython3",
   "version": "3.8.5"
  }
 },
 "nbformat": 4,
 "nbformat_minor": 4
}
